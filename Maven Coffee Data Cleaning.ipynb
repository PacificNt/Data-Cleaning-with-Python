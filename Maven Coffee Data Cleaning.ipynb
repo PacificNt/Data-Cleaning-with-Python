{
 "cells": [
  {
   "cell_type": "markdown",
   "id": "b8730606",
   "metadata": {},
   "source": [
    "# **COFFEE SURVEY RESULTS CLEANING**\n",
    "\n",
    "## About the project \n",
    "This is a data cleaning project performed on a coffee consumption survey dataset published by Maven Analytics as part of challenge. Details about the challenge and the dataset can be found on the following link https://mavenanalytics.io/challenges/maven-coffee-challenge/. With the size of the data(number of columns and rows), Python seemed suitable for me to use for Data Cleaning as its versatility and efficiency gives the possibility to efficiently handle large datasets with ease and precision.\n"
   ]
  },
  {
   "cell_type": "code",
   "execution_count": 1,
   "id": "6f266106",
   "metadata": {},
   "outputs": [],
   "source": [
    "import pandas as pd\n",
    "import matplotlib.pyplot as plt\n",
    "import numpy as np\n",
    "import seaborn as sns\n",
    "from sklearn.pipeline import Pipeline\n",
    "from sklearn.preprocessing import StandardScaler,PolynomialFeatures\n",
    "from sklearn.linear_model import LinearRegression\n",
    "%matplotlib inline"
   ]
  },
  {
   "cell_type": "code",
   "execution_count": 2,
   "id": "f42dc579",
   "metadata": {},
   "outputs": [],
   "source": [
    "file_path = 'C:\\\\Users\\\\USER\\\\OneDrive\\\\Documents\\\\PACIFIQUE NTETA\\\\Data Analytics Projects\\\\Maven\\\\GACTT_RESULTS_ANONYMIZED_v2.csv'"
   ]
  },
  {
   "cell_type": "code",
   "execution_count": 3,
   "id": "bbfd6fe1",
   "metadata": {},
   "outputs": [],
   "source": [
    "df = pd.read_csv(file_path)"
   ]
  },
  {
   "cell_type": "code",
   "execution_count": 4,
   "id": "7effc0c3",
   "metadata": {},
   "outputs": [
    {
     "name": "stdout",
     "output_type": "stream",
     "text": [
      "  Submission ID What is your age?  \\\n",
      "0        gMR29l   18-24 years old   \n",
      "1        BkPN0e   25-34 years old   \n",
      "2        W5G8jj   25-34 years old   \n",
      "3        4xWgGr   35-44 years old   \n",
      "4        QD27Q8   25-34 years old   \n",
      "\n",
      "  How many cups of coffee do you typically drink per day?  \\\n",
      "0                                                NaN        \n",
      "1                                                NaN        \n",
      "2                                                NaN        \n",
      "3                                                NaN        \n",
      "4                                                NaN        \n",
      "\n",
      "  Where do you typically drink coffee?  \\\n",
      "0                                  NaN   \n",
      "1                                  NaN   \n",
      "2                                  NaN   \n",
      "3                                  NaN   \n",
      "4                                  NaN   \n",
      "\n",
      "  Where do you typically drink coffee? (At home)  \\\n",
      "0                                            NaN   \n",
      "1                                            NaN   \n",
      "2                                            NaN   \n",
      "3                                            NaN   \n",
      "4                                            NaN   \n",
      "\n",
      "  Where do you typically drink coffee? (At the office)  \\\n",
      "0                                                NaN     \n",
      "1                                                NaN     \n",
      "2                                                NaN     \n",
      "3                                                NaN     \n",
      "4                                                NaN     \n",
      "\n",
      "  Where do you typically drink coffee? (On the go)  \\\n",
      "0                                              NaN   \n",
      "1                                              NaN   \n",
      "2                                              NaN   \n",
      "3                                              NaN   \n",
      "4                                              NaN   \n",
      "\n",
      "  Where do you typically drink coffee? (At a cafe)  \\\n",
      "0                                              NaN   \n",
      "1                                              NaN   \n",
      "2                                              NaN   \n",
      "3                                              NaN   \n",
      "4                                              NaN   \n",
      "\n",
      "  Where do you typically drink coffee? (None of these)  \\\n",
      "0                                                NaN     \n",
      "1                                                NaN     \n",
      "2                                                NaN     \n",
      "3                                                NaN     \n",
      "4                                                NaN     \n",
      "\n",
      "               How do you brew coffee at home?  ...  \\\n",
      "0                                          NaN  ...   \n",
      "1  Pod/capsule machine (e.g. Keurig/Nespresso)  ...   \n",
      "2                          Bean-to-cup machine  ...   \n",
      "3     Coffee brewing machine (e.g. Mr. Coffee)  ...   \n",
      "4                                    Pour over  ...   \n",
      "\n",
      "  What is the most you'd ever be willing to pay for a cup of coffee?  \\\n",
      "0                                                NaN                   \n",
      "1                                                NaN                   \n",
      "2                                                NaN                   \n",
      "3                                                NaN                   \n",
      "4                                                NaN                   \n",
      "\n",
      "  Do you feel like you’re getting good value for your money when you buy coffee at a cafe?  \\\n",
      "0                                                NaN                                         \n",
      "1                                                NaN                                         \n",
      "2                                                NaN                                         \n",
      "3                                                NaN                                         \n",
      "4                                                NaN                                         \n",
      "\n",
      "  Approximately how much have you spent on coffee equipment in the past 5 years?  \\\n",
      "0                                                NaN                               \n",
      "1                                                NaN                               \n",
      "2                                                NaN                               \n",
      "3                                                NaN                               \n",
      "4                                                NaN                               \n",
      "\n",
      "  Do you feel like you’re getting good value for your money with regards to your coffee equipment?  \\\n",
      "0                                                NaN                                                 \n",
      "1                                                NaN                                                 \n",
      "2                                                NaN                                                 \n",
      "3                                                NaN                                                 \n",
      "4                                                NaN                                                 \n",
      "\n",
      "  Gender Education Level Ethnicity/Race Employment Status Number of Children  \\\n",
      "0    NaN             NaN            NaN               NaN                NaN   \n",
      "1    NaN             NaN            NaN               NaN                NaN   \n",
      "2    NaN             NaN            NaN               NaN                NaN   \n",
      "3    NaN             NaN            NaN               NaN                NaN   \n",
      "4    NaN             NaN            NaN               NaN                NaN   \n",
      "\n",
      "  Political Affiliation  \n",
      "0                   NaN  \n",
      "1                   NaN  \n",
      "2                   NaN  \n",
      "3                   NaN  \n",
      "4                   NaN  \n",
      "\n",
      "[5 rows x 111 columns]\n"
     ]
    }
   ],
   "source": [
    "print(df.head())"
   ]
  },
  {
   "cell_type": "code",
   "execution_count": 5,
   "id": "e11c76f9",
   "metadata": {},
   "outputs": [
    {
     "data": {
      "text/html": [
       "<div>\n",
       "<style scoped>\n",
       "    .dataframe tbody tr th:only-of-type {\n",
       "        vertical-align: middle;\n",
       "    }\n",
       "\n",
       "    .dataframe tbody tr th {\n",
       "        vertical-align: top;\n",
       "    }\n",
       "\n",
       "    .dataframe thead th {\n",
       "        text-align: right;\n",
       "    }\n",
       "</style>\n",
       "<table border=\"1\" class=\"dataframe\">\n",
       "  <thead>\n",
       "    <tr style=\"text-align: right;\">\n",
       "      <th></th>\n",
       "      <th>Submission ID</th>\n",
       "      <th>What is your age?</th>\n",
       "      <th>How many cups of coffee do you typically drink per day?</th>\n",
       "      <th>Where do you typically drink coffee?</th>\n",
       "      <th>Where do you typically drink coffee? (At home)</th>\n",
       "      <th>Where do you typically drink coffee? (At the office)</th>\n",
       "      <th>Where do you typically drink coffee? (On the go)</th>\n",
       "      <th>Where do you typically drink coffee? (At a cafe)</th>\n",
       "      <th>Where do you typically drink coffee? (None of these)</th>\n",
       "      <th>How do you brew coffee at home?</th>\n",
       "      <th>...</th>\n",
       "      <th>What is the most you'd ever be willing to pay for a cup of coffee?</th>\n",
       "      <th>Do you feel like you’re getting good value for your money when you buy coffee at a cafe?</th>\n",
       "      <th>Approximately how much have you spent on coffee equipment in the past 5 years?</th>\n",
       "      <th>Do you feel like you’re getting good value for your money with regards to your coffee equipment?</th>\n",
       "      <th>Gender</th>\n",
       "      <th>Education Level</th>\n",
       "      <th>Ethnicity/Race</th>\n",
       "      <th>Employment Status</th>\n",
       "      <th>Number of Children</th>\n",
       "      <th>Political Affiliation</th>\n",
       "    </tr>\n",
       "  </thead>\n",
       "  <tbody>\n",
       "    <tr>\n",
       "      <th>0</th>\n",
       "      <td>gMR29l</td>\n",
       "      <td>18-24 years old</td>\n",
       "      <td>NaN</td>\n",
       "      <td>NaN</td>\n",
       "      <td>NaN</td>\n",
       "      <td>NaN</td>\n",
       "      <td>NaN</td>\n",
       "      <td>NaN</td>\n",
       "      <td>NaN</td>\n",
       "      <td>NaN</td>\n",
       "      <td>...</td>\n",
       "      <td>NaN</td>\n",
       "      <td>NaN</td>\n",
       "      <td>NaN</td>\n",
       "      <td>NaN</td>\n",
       "      <td>NaN</td>\n",
       "      <td>NaN</td>\n",
       "      <td>NaN</td>\n",
       "      <td>NaN</td>\n",
       "      <td>NaN</td>\n",
       "      <td>NaN</td>\n",
       "    </tr>\n",
       "    <tr>\n",
       "      <th>1</th>\n",
       "      <td>BkPN0e</td>\n",
       "      <td>25-34 years old</td>\n",
       "      <td>NaN</td>\n",
       "      <td>NaN</td>\n",
       "      <td>NaN</td>\n",
       "      <td>NaN</td>\n",
       "      <td>NaN</td>\n",
       "      <td>NaN</td>\n",
       "      <td>NaN</td>\n",
       "      <td>Pod/capsule machine (e.g. Keurig/Nespresso)</td>\n",
       "      <td>...</td>\n",
       "      <td>NaN</td>\n",
       "      <td>NaN</td>\n",
       "      <td>NaN</td>\n",
       "      <td>NaN</td>\n",
       "      <td>NaN</td>\n",
       "      <td>NaN</td>\n",
       "      <td>NaN</td>\n",
       "      <td>NaN</td>\n",
       "      <td>NaN</td>\n",
       "      <td>NaN</td>\n",
       "    </tr>\n",
       "    <tr>\n",
       "      <th>2</th>\n",
       "      <td>W5G8jj</td>\n",
       "      <td>25-34 years old</td>\n",
       "      <td>NaN</td>\n",
       "      <td>NaN</td>\n",
       "      <td>NaN</td>\n",
       "      <td>NaN</td>\n",
       "      <td>NaN</td>\n",
       "      <td>NaN</td>\n",
       "      <td>NaN</td>\n",
       "      <td>Bean-to-cup machine</td>\n",
       "      <td>...</td>\n",
       "      <td>NaN</td>\n",
       "      <td>NaN</td>\n",
       "      <td>NaN</td>\n",
       "      <td>NaN</td>\n",
       "      <td>NaN</td>\n",
       "      <td>NaN</td>\n",
       "      <td>NaN</td>\n",
       "      <td>NaN</td>\n",
       "      <td>NaN</td>\n",
       "      <td>NaN</td>\n",
       "    </tr>\n",
       "    <tr>\n",
       "      <th>3</th>\n",
       "      <td>4xWgGr</td>\n",
       "      <td>35-44 years old</td>\n",
       "      <td>NaN</td>\n",
       "      <td>NaN</td>\n",
       "      <td>NaN</td>\n",
       "      <td>NaN</td>\n",
       "      <td>NaN</td>\n",
       "      <td>NaN</td>\n",
       "      <td>NaN</td>\n",
       "      <td>Coffee brewing machine (e.g. Mr. Coffee)</td>\n",
       "      <td>...</td>\n",
       "      <td>NaN</td>\n",
       "      <td>NaN</td>\n",
       "      <td>NaN</td>\n",
       "      <td>NaN</td>\n",
       "      <td>NaN</td>\n",
       "      <td>NaN</td>\n",
       "      <td>NaN</td>\n",
       "      <td>NaN</td>\n",
       "      <td>NaN</td>\n",
       "      <td>NaN</td>\n",
       "    </tr>\n",
       "    <tr>\n",
       "      <th>4</th>\n",
       "      <td>QD27Q8</td>\n",
       "      <td>25-34 years old</td>\n",
       "      <td>NaN</td>\n",
       "      <td>NaN</td>\n",
       "      <td>NaN</td>\n",
       "      <td>NaN</td>\n",
       "      <td>NaN</td>\n",
       "      <td>NaN</td>\n",
       "      <td>NaN</td>\n",
       "      <td>Pour over</td>\n",
       "      <td>...</td>\n",
       "      <td>NaN</td>\n",
       "      <td>NaN</td>\n",
       "      <td>NaN</td>\n",
       "      <td>NaN</td>\n",
       "      <td>NaN</td>\n",
       "      <td>NaN</td>\n",
       "      <td>NaN</td>\n",
       "      <td>NaN</td>\n",
       "      <td>NaN</td>\n",
       "      <td>NaN</td>\n",
       "    </tr>\n",
       "  </tbody>\n",
       "</table>\n",
       "<p>5 rows × 111 columns</p>\n",
       "</div>"
      ],
      "text/plain": [
       "  Submission ID What is your age?  \\\n",
       "0        gMR29l   18-24 years old   \n",
       "1        BkPN0e   25-34 years old   \n",
       "2        W5G8jj   25-34 years old   \n",
       "3        4xWgGr   35-44 years old   \n",
       "4        QD27Q8   25-34 years old   \n",
       "\n",
       "  How many cups of coffee do you typically drink per day?  \\\n",
       "0                                                NaN        \n",
       "1                                                NaN        \n",
       "2                                                NaN        \n",
       "3                                                NaN        \n",
       "4                                                NaN        \n",
       "\n",
       "  Where do you typically drink coffee?  \\\n",
       "0                                  NaN   \n",
       "1                                  NaN   \n",
       "2                                  NaN   \n",
       "3                                  NaN   \n",
       "4                                  NaN   \n",
       "\n",
       "  Where do you typically drink coffee? (At home)  \\\n",
       "0                                            NaN   \n",
       "1                                            NaN   \n",
       "2                                            NaN   \n",
       "3                                            NaN   \n",
       "4                                            NaN   \n",
       "\n",
       "  Where do you typically drink coffee? (At the office)  \\\n",
       "0                                                NaN     \n",
       "1                                                NaN     \n",
       "2                                                NaN     \n",
       "3                                                NaN     \n",
       "4                                                NaN     \n",
       "\n",
       "  Where do you typically drink coffee? (On the go)  \\\n",
       "0                                              NaN   \n",
       "1                                              NaN   \n",
       "2                                              NaN   \n",
       "3                                              NaN   \n",
       "4                                              NaN   \n",
       "\n",
       "  Where do you typically drink coffee? (At a cafe)  \\\n",
       "0                                              NaN   \n",
       "1                                              NaN   \n",
       "2                                              NaN   \n",
       "3                                              NaN   \n",
       "4                                              NaN   \n",
       "\n",
       "  Where do you typically drink coffee? (None of these)  \\\n",
       "0                                                NaN     \n",
       "1                                                NaN     \n",
       "2                                                NaN     \n",
       "3                                                NaN     \n",
       "4                                                NaN     \n",
       "\n",
       "               How do you brew coffee at home?  ...  \\\n",
       "0                                          NaN  ...   \n",
       "1  Pod/capsule machine (e.g. Keurig/Nespresso)  ...   \n",
       "2                          Bean-to-cup machine  ...   \n",
       "3     Coffee brewing machine (e.g. Mr. Coffee)  ...   \n",
       "4                                    Pour over  ...   \n",
       "\n",
       "  What is the most you'd ever be willing to pay for a cup of coffee?  \\\n",
       "0                                                NaN                   \n",
       "1                                                NaN                   \n",
       "2                                                NaN                   \n",
       "3                                                NaN                   \n",
       "4                                                NaN                   \n",
       "\n",
       "  Do you feel like you’re getting good value for your money when you buy coffee at a cafe?  \\\n",
       "0                                                NaN                                         \n",
       "1                                                NaN                                         \n",
       "2                                                NaN                                         \n",
       "3                                                NaN                                         \n",
       "4                                                NaN                                         \n",
       "\n",
       "  Approximately how much have you spent on coffee equipment in the past 5 years?  \\\n",
       "0                                                NaN                               \n",
       "1                                                NaN                               \n",
       "2                                                NaN                               \n",
       "3                                                NaN                               \n",
       "4                                                NaN                               \n",
       "\n",
       "  Do you feel like you’re getting good value for your money with regards to your coffee equipment?  \\\n",
       "0                                                NaN                                                 \n",
       "1                                                NaN                                                 \n",
       "2                                                NaN                                                 \n",
       "3                                                NaN                                                 \n",
       "4                                                NaN                                                 \n",
       "\n",
       "  Gender Education Level Ethnicity/Race Employment Status Number of Children  \\\n",
       "0    NaN             NaN            NaN               NaN                NaN   \n",
       "1    NaN             NaN            NaN               NaN                NaN   \n",
       "2    NaN             NaN            NaN               NaN                NaN   \n",
       "3    NaN             NaN            NaN               NaN                NaN   \n",
       "4    NaN             NaN            NaN               NaN                NaN   \n",
       "\n",
       "  Political Affiliation  \n",
       "0                   NaN  \n",
       "1                   NaN  \n",
       "2                   NaN  \n",
       "3                   NaN  \n",
       "4                   NaN  \n",
       "\n",
       "[5 rows x 111 columns]"
      ]
     },
     "execution_count": 5,
     "metadata": {},
     "output_type": "execute_result"
    }
   ],
   "source": [
    "df.head(5)"
   ]
  },
  {
   "cell_type": "code",
   "execution_count": 6,
   "id": "549e5742",
   "metadata": {},
   "outputs": [
    {
     "name": "stdout",
     "output_type": "stream",
     "text": [
      "<class 'pandas.core.frame.DataFrame'>\n",
      "RangeIndex: 4042 entries, 0 to 4041\n",
      "Columns: 111 entries, Submission ID to Political Affiliation\n",
      "dtypes: float64(21), object(90)\n",
      "memory usage: 3.4+ MB\n",
      "None\n"
     ]
    }
   ],
   "source": [
    "print(df.info())"
   ]
  },
  {
   "cell_type": "code",
   "execution_count": 7,
   "id": "11bdbd60",
   "metadata": {},
   "outputs": [
    {
     "name": "stdout",
     "output_type": "stream",
     "text": [
      "       What kind of flavorings do you add?  \\\n",
      "count                                  0.0   \n",
      "mean                                   NaN   \n",
      "std                                    NaN   \n",
      "min                                    NaN   \n",
      "25%                                    NaN   \n",
      "50%                                    NaN   \n",
      "75%                                    NaN   \n",
      "max                                    NaN   \n",
      "\n",
      "       What kind of flavorings do you add? (Vanilla Syrup)  \\\n",
      "count                                                0.0     \n",
      "mean                                                 NaN     \n",
      "std                                                  NaN     \n",
      "min                                                  NaN     \n",
      "25%                                                  NaN     \n",
      "50%                                                  NaN     \n",
      "75%                                                  NaN     \n",
      "max                                                  NaN     \n",
      "\n",
      "       What kind of flavorings do you add? (Caramel Syrup)  \\\n",
      "count                                                0.0     \n",
      "mean                                                 NaN     \n",
      "std                                                  NaN     \n",
      "min                                                  NaN     \n",
      "25%                                                  NaN     \n",
      "50%                                                  NaN     \n",
      "75%                                                  NaN     \n",
      "max                                                  NaN     \n",
      "\n",
      "       What kind of flavorings do you add? (Hazelnut Syrup)  \\\n",
      "count                                                0.0      \n",
      "mean                                                 NaN      \n",
      "std                                                  NaN      \n",
      "min                                                  NaN      \n",
      "25%                                                  NaN      \n",
      "50%                                                  NaN      \n",
      "75%                                                  NaN      \n",
      "max                                                  NaN      \n",
      "\n",
      "       What kind of flavorings do you add? (Cinnamon (Ground or Stick))  \\\n",
      "count                                                0.0                  \n",
      "mean                                                 NaN                  \n",
      "std                                                  NaN                  \n",
      "min                                                  NaN                  \n",
      "25%                                                  NaN                  \n",
      "50%                                                  NaN                  \n",
      "75%                                                  NaN                  \n",
      "max                                                  NaN                  \n",
      "\n",
      "       What kind of flavorings do you add? (Peppermint Syrup)  \\\n",
      "count                                                0.0        \n",
      "mean                                                 NaN        \n",
      "std                                                  NaN        \n",
      "min                                                  NaN        \n",
      "25%                                                  NaN        \n",
      "50%                                                  NaN        \n",
      "75%                                                  NaN        \n",
      "max                                                  NaN        \n",
      "\n",
      "       What kind of flavorings do you add? (Other)  \\\n",
      "count                                          0.0   \n",
      "mean                                           NaN   \n",
      "std                                            NaN   \n",
      "min                                            NaN   \n",
      "25%                                            NaN   \n",
      "50%                                            NaN   \n",
      "75%                                            NaN   \n",
      "max                                            NaN   \n",
      "\n",
      "       What other flavoring do you use?  \\\n",
      "count                               0.0   \n",
      "mean                                NaN   \n",
      "std                                 NaN   \n",
      "min                                 NaN   \n",
      "25%                                 NaN   \n",
      "50%                                 NaN   \n",
      "75%                                 NaN   \n",
      "max                                 NaN   \n",
      "\n",
      "       Lastly, how would you rate your own coffee expertise?  \\\n",
      "count                                        3938.000000       \n",
      "mean                                            5.693499       \n",
      "std                                             1.948867       \n",
      "min                                             1.000000       \n",
      "25%                                             5.000000       \n",
      "50%                                             6.000000       \n",
      "75%                                             7.000000       \n",
      "max                                            10.000000       \n",
      "\n",
      "       Coffee A - Bitterness  ...  Coffee A - Personal Preference  \\\n",
      "count            3798.000000  ...                     3789.000000   \n",
      "mean                2.141127  ...                        3.310900   \n",
      "std                 0.947163  ...                        1.185953   \n",
      "min                 1.000000  ...                        1.000000   \n",
      "25%                 1.000000  ...                        2.000000   \n",
      "50%                 2.000000  ...                        3.000000   \n",
      "75%                 3.000000  ...                        4.000000   \n",
      "max                 5.000000  ...                        5.000000   \n",
      "\n",
      "       Coffee B - Bitterness  Coffee B - Acidity  \\\n",
      "count            3780.000000         3767.000000   \n",
      "mean                3.013228            2.223786   \n",
      "std                 0.992875            0.865389   \n",
      "min                 1.000000            1.000000   \n",
      "25%                 2.000000            2.000000   \n",
      "50%                 3.000000            2.000000   \n",
      "75%                 4.000000            3.000000   \n",
      "max                 5.000000            5.000000   \n",
      "\n",
      "       Coffee B - Personal Preference  Coffee C - Bitterness  \\\n",
      "count                     3773.000000            3764.000000   \n",
      "mean                         3.068646               3.071998   \n",
      "std                          1.113546               0.999267   \n",
      "min                          1.000000               1.000000   \n",
      "25%                          2.000000               2.000000   \n",
      "50%                          3.000000               3.000000   \n",
      "75%                          4.000000               4.000000   \n",
      "max                          5.000000               5.000000   \n",
      "\n",
      "       Coffee C - Acidity  Coffee C - Personal Preference  \\\n",
      "count         3751.000000                     3766.000000   \n",
      "mean             2.366836                        3.064790   \n",
      "std              0.921048                        1.128431   \n",
      "min              1.000000                        1.000000   \n",
      "25%              2.000000                        2.000000   \n",
      "50%              2.000000                        3.000000   \n",
      "75%              3.000000                        4.000000   \n",
      "max              5.000000                        5.000000   \n",
      "\n",
      "       Coffee D - Bitterness  Coffee D - Acidity  \\\n",
      "count            3767.000000         3765.000000   \n",
      "mean                2.162729            3.858167   \n",
      "std                 1.081546            1.007973   \n",
      "min                 1.000000            1.000000   \n",
      "25%                 1.000000            3.000000   \n",
      "50%                 2.000000            4.000000   \n",
      "75%                 3.000000            5.000000   \n",
      "max                 5.000000            5.000000   \n",
      "\n",
      "       Coffee D - Personal Preference  \n",
      "count                     3764.000000  \n",
      "mean                         3.375930  \n",
      "std                          1.452504  \n",
      "min                          1.000000  \n",
      "25%                          2.000000  \n",
      "50%                          4.000000  \n",
      "75%                          5.000000  \n",
      "max                          5.000000  \n",
      "\n",
      "[8 rows x 21 columns]\n"
     ]
    }
   ],
   "source": [
    "print(df.describe())"
   ]
  },
  {
   "cell_type": "code",
   "execution_count": 8,
   "id": "536cf522",
   "metadata": {},
   "outputs": [
    {
     "name": "stdout",
     "output_type": "stream",
     "text": [
      "       Submission ID What is your age?  \\\n",
      "count           4042              4011   \n",
      "unique          4042                 7   \n",
      "top           gMR29l   25-34 years old   \n",
      "freq               1              1986   \n",
      "mean             NaN               NaN   \n",
      "std              NaN               NaN   \n",
      "min              NaN               NaN   \n",
      "25%              NaN               NaN   \n",
      "50%              NaN               NaN   \n",
      "75%              NaN               NaN   \n",
      "max              NaN               NaN   \n",
      "\n",
      "       How many cups of coffee do you typically drink per day?  \\\n",
      "count                                                3949        \n",
      "unique                                                  6        \n",
      "top                                                     2        \n",
      "freq                                                 1663        \n",
      "mean                                                  NaN        \n",
      "std                                                   NaN        \n",
      "min                                                   NaN        \n",
      "25%                                                   NaN        \n",
      "50%                                                   NaN        \n",
      "75%                                                   NaN        \n",
      "max                                                   NaN        \n",
      "\n",
      "       Where do you typically drink coffee?  \\\n",
      "count                                  3972   \n",
      "unique                                   65   \n",
      "top                                 At home   \n",
      "freq                                   1625   \n",
      "mean                                    NaN   \n",
      "std                                     NaN   \n",
      "min                                     NaN   \n",
      "25%                                     NaN   \n",
      "50%                                     NaN   \n",
      "75%                                     NaN   \n",
      "max                                     NaN   \n",
      "\n",
      "       Where do you typically drink coffee? (At home)  \\\n",
      "count                                            3975   \n",
      "unique                                              2   \n",
      "top                                              True   \n",
      "freq                                             3644   \n",
      "mean                                              NaN   \n",
      "std                                               NaN   \n",
      "min                                               NaN   \n",
      "25%                                               NaN   \n",
      "50%                                               NaN   \n",
      "75%                                               NaN   \n",
      "max                                               NaN   \n",
      "\n",
      "       Where do you typically drink coffee? (At the office)  \\\n",
      "count                                                3975     \n",
      "unique                                                  2     \n",
      "top                                                 False     \n",
      "freq                                                 2545     \n",
      "mean                                                  NaN     \n",
      "std                                                   NaN     \n",
      "min                                                   NaN     \n",
      "25%                                                   NaN     \n",
      "50%                                                   NaN     \n",
      "75%                                                   NaN     \n",
      "max                                                   NaN     \n",
      "\n",
      "       Where do you typically drink coffee? (On the go)  \\\n",
      "count                                              3975   \n",
      "unique                                                2   \n",
      "top                                               False   \n",
      "freq                                               3270   \n",
      "mean                                                NaN   \n",
      "std                                                 NaN   \n",
      "min                                                 NaN   \n",
      "25%                                                 NaN   \n",
      "50%                                                 NaN   \n",
      "75%                                                 NaN   \n",
      "max                                                 NaN   \n",
      "\n",
      "       Where do you typically drink coffee? (At a cafe)  \\\n",
      "count                                              3975   \n",
      "unique                                                2   \n",
      "top                                               False   \n",
      "freq                                               2805   \n",
      "mean                                                NaN   \n",
      "std                                                 NaN   \n",
      "min                                                 NaN   \n",
      "25%                                                 NaN   \n",
      "50%                                                 NaN   \n",
      "75%                                                 NaN   \n",
      "max                                                 NaN   \n",
      "\n",
      "       Where do you typically drink coffee? (None of these)  \\\n",
      "count                                                3975     \n",
      "unique                                                  2     \n",
      "top                                                 False     \n",
      "freq                                                 3939     \n",
      "mean                                                  NaN     \n",
      "std                                                   NaN     \n",
      "min                                                   NaN     \n",
      "25%                                                   NaN     \n",
      "50%                                                   NaN     \n",
      "75%                                                   NaN     \n",
      "max                                                   NaN     \n",
      "\n",
      "       How do you brew coffee at home?  ...  \\\n",
      "count                             3657  ...   \n",
      "unique                             449  ...   \n",
      "top                          Pour over  ...   \n",
      "freq                               575  ...   \n",
      "mean                               NaN  ...   \n",
      "std                                NaN  ...   \n",
      "min                                NaN  ...   \n",
      "25%                                NaN  ...   \n",
      "50%                                NaN  ...   \n",
      "75%                                NaN  ...   \n",
      "max                                NaN  ...   \n",
      "\n",
      "       What is the most you'd ever be willing to pay for a cup of coffee?  \\\n",
      "count                                                3510                   \n",
      "unique                                                  8                   \n",
      "top                                                $8-$10                   \n",
      "freq                                                  880                   \n",
      "mean                                                  NaN                   \n",
      "std                                                   NaN                   \n",
      "min                                                   NaN                   \n",
      "25%                                                   NaN                   \n",
      "50%                                                   NaN                   \n",
      "75%                                                   NaN                   \n",
      "max                                                   NaN                   \n",
      "\n",
      "       Do you feel like you’re getting good value for your money when you buy coffee at a cafe?  \\\n",
      "count                                                3500                                         \n",
      "unique                                                  2                                         \n",
      "top                                                   Yes                                         \n",
      "freq                                                 2048                                         \n",
      "mean                                                  NaN                                         \n",
      "std                                                   NaN                                         \n",
      "min                                                   NaN                                         \n",
      "25%                                                   NaN                                         \n",
      "50%                                                   NaN                                         \n",
      "75%                                                   NaN                                         \n",
      "max                                                   NaN                                         \n",
      "\n",
      "       Approximately how much have you spent on coffee equipment in the past 5 years?  \\\n",
      "count                                                3506                               \n",
      "unique                                                  7                               \n",
      "top                                      More than $1,000                               \n",
      "freq                                                  780                               \n",
      "mean                                                  NaN                               \n",
      "std                                                   NaN                               \n",
      "min                                                   NaN                               \n",
      "25%                                                   NaN                               \n",
      "50%                                                   NaN                               \n",
      "75%                                                   NaN                               \n",
      "max                                                   NaN                               \n",
      "\n",
      "       Do you feel like you’re getting good value for your money with regards to your coffee equipment?  \\\n",
      "count                                                3494                                                 \n",
      "unique                                                  2                                                 \n",
      "top                                                   Yes                                                 \n",
      "freq                                                 3318                                                 \n",
      "mean                                                  NaN                                                 \n",
      "std                                                   NaN                                                 \n",
      "min                                                   NaN                                                 \n",
      "25%                                                   NaN                                                 \n",
      "50%                                                   NaN                                                 \n",
      "75%                                                   NaN                                                 \n",
      "max                                                   NaN                                                 \n",
      "\n",
      "       Gender    Education Level   Ethnicity/Race   Employment Status  \\\n",
      "count    3523               3438             3418                3419   \n",
      "unique      5                  6                6                   6   \n",
      "top      Male  Bachelor's degree  White/Caucasian  Employed full-time   \n",
      "freq     2524               1759             2626                2708   \n",
      "mean      NaN                NaN              NaN                 NaN   \n",
      "std       NaN                NaN              NaN                 NaN   \n",
      "min       NaN                NaN              NaN                 NaN   \n",
      "25%       NaN                NaN              NaN                 NaN   \n",
      "50%       NaN                NaN              NaN                 NaN   \n",
      "75%       NaN                NaN              NaN                 NaN   \n",
      "max       NaN                NaN              NaN                 NaN   \n",
      "\n",
      "       Number of Children Political Affiliation  \n",
      "count                 856                  3289  \n",
      "unique                  4                     4  \n",
      "top                     2              Democrat  \n",
      "freq                  402                  1768  \n",
      "mean                  NaN                   NaN  \n",
      "std                   NaN                   NaN  \n",
      "min                   NaN                   NaN  \n",
      "25%                   NaN                   NaN  \n",
      "50%                   NaN                   NaN  \n",
      "75%                   NaN                   NaN  \n",
      "max                   NaN                   NaN  \n",
      "\n",
      "[11 rows x 111 columns]\n"
     ]
    }
   ],
   "source": [
    "print(df.describe(include = \"all\"))"
   ]
  },
  {
   "cell_type": "code",
   "execution_count": 9,
   "id": "d245547e",
   "metadata": {},
   "outputs": [
    {
     "data": {
      "text/plain": [
       "Index(['Submission ID', 'What is your age?',\n",
       "       'How many cups of coffee do you typically drink per day?',\n",
       "       'Where do you typically drink coffee?',\n",
       "       'Where do you typically drink coffee? (At home)',\n",
       "       'Where do you typically drink coffee? (At the office)',\n",
       "       'Where do you typically drink coffee? (On the go)',\n",
       "       'Where do you typically drink coffee? (At a cafe)',\n",
       "       'Where do you typically drink coffee? (None of these)',\n",
       "       'How do you brew coffee at home?',\n",
       "       ...\n",
       "       'What is the most you'd ever be willing to pay for a cup of coffee?',\n",
       "       'Do you feel like you’re getting good value for your money when you buy coffee at a cafe?',\n",
       "       'Approximately how much have you spent on coffee equipment in the past 5 years?',\n",
       "       'Do you feel like you’re getting good value for your money with regards to your coffee equipment?',\n",
       "       'Gender', 'Education Level', 'Ethnicity/Race', 'Employment Status',\n",
       "       'Number of Children', 'Political Affiliation'],\n",
       "      dtype='object', length=111)"
      ]
     },
     "execution_count": 9,
     "metadata": {},
     "output_type": "execute_result"
    }
   ],
   "source": [
    "df.columns"
   ]
  },
  {
   "cell_type": "code",
   "execution_count": 10,
   "id": "4647c7f8",
   "metadata": {},
   "outputs": [
    {
     "data": {
      "text/html": [
       "<div>\n",
       "<style scoped>\n",
       "    .dataframe tbody tr th:only-of-type {\n",
       "        vertical-align: middle;\n",
       "    }\n",
       "\n",
       "    .dataframe tbody tr th {\n",
       "        vertical-align: top;\n",
       "    }\n",
       "\n",
       "    .dataframe thead th {\n",
       "        text-align: right;\n",
       "    }\n",
       "</style>\n",
       "<table border=\"1\" class=\"dataframe\">\n",
       "  <thead>\n",
       "    <tr style=\"text-align: right;\">\n",
       "      <th></th>\n",
       "      <th>Submission ID</th>\n",
       "      <th>What is your age?</th>\n",
       "      <th>How many cups of coffee do you typically drink per day?</th>\n",
       "      <th>Where do you typically drink coffee?</th>\n",
       "      <th>Where do you typically drink coffee? (At home)</th>\n",
       "      <th>Where do you typically drink coffee? (At the office)</th>\n",
       "      <th>Where do you typically drink coffee? (On the go)</th>\n",
       "      <th>Where do you typically drink coffee? (At a cafe)</th>\n",
       "      <th>Where do you typically drink coffee? (None of these)</th>\n",
       "      <th>How do you brew coffee at home?</th>\n",
       "      <th>...</th>\n",
       "      <th>What is the most you'd ever be willing to pay for a cup of coffee?</th>\n",
       "      <th>Do you feel like you’re getting good value for your money when you buy coffee at a cafe?</th>\n",
       "      <th>Approximately how much have you spent on coffee equipment in the past 5 years?</th>\n",
       "      <th>Do you feel like you’re getting good value for your money with regards to your coffee equipment?</th>\n",
       "      <th>Gender</th>\n",
       "      <th>Education Level</th>\n",
       "      <th>Ethnicity/Race</th>\n",
       "      <th>Employment Status</th>\n",
       "      <th>Number of Children</th>\n",
       "      <th>Political Affiliation</th>\n",
       "    </tr>\n",
       "  </thead>\n",
       "  <tbody>\n",
       "    <tr>\n",
       "      <th>0</th>\n",
       "      <td>False</td>\n",
       "      <td>False</td>\n",
       "      <td>True</td>\n",
       "      <td>True</td>\n",
       "      <td>True</td>\n",
       "      <td>True</td>\n",
       "      <td>True</td>\n",
       "      <td>True</td>\n",
       "      <td>True</td>\n",
       "      <td>True</td>\n",
       "      <td>...</td>\n",
       "      <td>True</td>\n",
       "      <td>True</td>\n",
       "      <td>True</td>\n",
       "      <td>True</td>\n",
       "      <td>True</td>\n",
       "      <td>True</td>\n",
       "      <td>True</td>\n",
       "      <td>True</td>\n",
       "      <td>True</td>\n",
       "      <td>True</td>\n",
       "    </tr>\n",
       "    <tr>\n",
       "      <th>1</th>\n",
       "      <td>False</td>\n",
       "      <td>False</td>\n",
       "      <td>True</td>\n",
       "      <td>True</td>\n",
       "      <td>True</td>\n",
       "      <td>True</td>\n",
       "      <td>True</td>\n",
       "      <td>True</td>\n",
       "      <td>True</td>\n",
       "      <td>False</td>\n",
       "      <td>...</td>\n",
       "      <td>True</td>\n",
       "      <td>True</td>\n",
       "      <td>True</td>\n",
       "      <td>True</td>\n",
       "      <td>True</td>\n",
       "      <td>True</td>\n",
       "      <td>True</td>\n",
       "      <td>True</td>\n",
       "      <td>True</td>\n",
       "      <td>True</td>\n",
       "    </tr>\n",
       "    <tr>\n",
       "      <th>2</th>\n",
       "      <td>False</td>\n",
       "      <td>False</td>\n",
       "      <td>True</td>\n",
       "      <td>True</td>\n",
       "      <td>True</td>\n",
       "      <td>True</td>\n",
       "      <td>True</td>\n",
       "      <td>True</td>\n",
       "      <td>True</td>\n",
       "      <td>False</td>\n",
       "      <td>...</td>\n",
       "      <td>True</td>\n",
       "      <td>True</td>\n",
       "      <td>True</td>\n",
       "      <td>True</td>\n",
       "      <td>True</td>\n",
       "      <td>True</td>\n",
       "      <td>True</td>\n",
       "      <td>True</td>\n",
       "      <td>True</td>\n",
       "      <td>True</td>\n",
       "    </tr>\n",
       "    <tr>\n",
       "      <th>3</th>\n",
       "      <td>False</td>\n",
       "      <td>False</td>\n",
       "      <td>True</td>\n",
       "      <td>True</td>\n",
       "      <td>True</td>\n",
       "      <td>True</td>\n",
       "      <td>True</td>\n",
       "      <td>True</td>\n",
       "      <td>True</td>\n",
       "      <td>False</td>\n",
       "      <td>...</td>\n",
       "      <td>True</td>\n",
       "      <td>True</td>\n",
       "      <td>True</td>\n",
       "      <td>True</td>\n",
       "      <td>True</td>\n",
       "      <td>True</td>\n",
       "      <td>True</td>\n",
       "      <td>True</td>\n",
       "      <td>True</td>\n",
       "      <td>True</td>\n",
       "    </tr>\n",
       "    <tr>\n",
       "      <th>4</th>\n",
       "      <td>False</td>\n",
       "      <td>False</td>\n",
       "      <td>True</td>\n",
       "      <td>True</td>\n",
       "      <td>True</td>\n",
       "      <td>True</td>\n",
       "      <td>True</td>\n",
       "      <td>True</td>\n",
       "      <td>True</td>\n",
       "      <td>False</td>\n",
       "      <td>...</td>\n",
       "      <td>True</td>\n",
       "      <td>True</td>\n",
       "      <td>True</td>\n",
       "      <td>True</td>\n",
       "      <td>True</td>\n",
       "      <td>True</td>\n",
       "      <td>True</td>\n",
       "      <td>True</td>\n",
       "      <td>True</td>\n",
       "      <td>True</td>\n",
       "    </tr>\n",
       "    <tr>\n",
       "      <th>...</th>\n",
       "      <td>...</td>\n",
       "      <td>...</td>\n",
       "      <td>...</td>\n",
       "      <td>...</td>\n",
       "      <td>...</td>\n",
       "      <td>...</td>\n",
       "      <td>...</td>\n",
       "      <td>...</td>\n",
       "      <td>...</td>\n",
       "      <td>...</td>\n",
       "      <td>...</td>\n",
       "      <td>...</td>\n",
       "      <td>...</td>\n",
       "      <td>...</td>\n",
       "      <td>...</td>\n",
       "      <td>...</td>\n",
       "      <td>...</td>\n",
       "      <td>...</td>\n",
       "      <td>...</td>\n",
       "      <td>...</td>\n",
       "      <td>...</td>\n",
       "    </tr>\n",
       "    <tr>\n",
       "      <th>4037</th>\n",
       "      <td>False</td>\n",
       "      <td>False</td>\n",
       "      <td>False</td>\n",
       "      <td>False</td>\n",
       "      <td>False</td>\n",
       "      <td>False</td>\n",
       "      <td>False</td>\n",
       "      <td>False</td>\n",
       "      <td>False</td>\n",
       "      <td>False</td>\n",
       "      <td>...</td>\n",
       "      <td>False</td>\n",
       "      <td>False</td>\n",
       "      <td>False</td>\n",
       "      <td>False</td>\n",
       "      <td>False</td>\n",
       "      <td>False</td>\n",
       "      <td>False</td>\n",
       "      <td>False</td>\n",
       "      <td>False</td>\n",
       "      <td>False</td>\n",
       "    </tr>\n",
       "    <tr>\n",
       "      <th>4038</th>\n",
       "      <td>False</td>\n",
       "      <td>False</td>\n",
       "      <td>False</td>\n",
       "      <td>False</td>\n",
       "      <td>False</td>\n",
       "      <td>False</td>\n",
       "      <td>False</td>\n",
       "      <td>False</td>\n",
       "      <td>False</td>\n",
       "      <td>False</td>\n",
       "      <td>...</td>\n",
       "      <td>False</td>\n",
       "      <td>False</td>\n",
       "      <td>False</td>\n",
       "      <td>False</td>\n",
       "      <td>False</td>\n",
       "      <td>False</td>\n",
       "      <td>False</td>\n",
       "      <td>False</td>\n",
       "      <td>False</td>\n",
       "      <td>False</td>\n",
       "    </tr>\n",
       "    <tr>\n",
       "      <th>4039</th>\n",
       "      <td>False</td>\n",
       "      <td>False</td>\n",
       "      <td>False</td>\n",
       "      <td>False</td>\n",
       "      <td>False</td>\n",
       "      <td>False</td>\n",
       "      <td>False</td>\n",
       "      <td>False</td>\n",
       "      <td>False</td>\n",
       "      <td>False</td>\n",
       "      <td>...</td>\n",
       "      <td>False</td>\n",
       "      <td>False</td>\n",
       "      <td>False</td>\n",
       "      <td>False</td>\n",
       "      <td>False</td>\n",
       "      <td>False</td>\n",
       "      <td>False</td>\n",
       "      <td>False</td>\n",
       "      <td>True</td>\n",
       "      <td>False</td>\n",
       "    </tr>\n",
       "    <tr>\n",
       "      <th>4040</th>\n",
       "      <td>False</td>\n",
       "      <td>False</td>\n",
       "      <td>False</td>\n",
       "      <td>False</td>\n",
       "      <td>False</td>\n",
       "      <td>False</td>\n",
       "      <td>False</td>\n",
       "      <td>False</td>\n",
       "      <td>False</td>\n",
       "      <td>False</td>\n",
       "      <td>...</td>\n",
       "      <td>False</td>\n",
       "      <td>False</td>\n",
       "      <td>False</td>\n",
       "      <td>False</td>\n",
       "      <td>False</td>\n",
       "      <td>False</td>\n",
       "      <td>False</td>\n",
       "      <td>False</td>\n",
       "      <td>True</td>\n",
       "      <td>False</td>\n",
       "    </tr>\n",
       "    <tr>\n",
       "      <th>4041</th>\n",
       "      <td>False</td>\n",
       "      <td>False</td>\n",
       "      <td>False</td>\n",
       "      <td>False</td>\n",
       "      <td>False</td>\n",
       "      <td>False</td>\n",
       "      <td>False</td>\n",
       "      <td>False</td>\n",
       "      <td>False</td>\n",
       "      <td>False</td>\n",
       "      <td>...</td>\n",
       "      <td>False</td>\n",
       "      <td>False</td>\n",
       "      <td>False</td>\n",
       "      <td>False</td>\n",
       "      <td>False</td>\n",
       "      <td>False</td>\n",
       "      <td>False</td>\n",
       "      <td>False</td>\n",
       "      <td>False</td>\n",
       "      <td>False</td>\n",
       "    </tr>\n",
       "  </tbody>\n",
       "</table>\n",
       "<p>4042 rows × 111 columns</p>\n",
       "</div>"
      ],
      "text/plain": [
       "      Submission ID  What is your age?  \\\n",
       "0             False              False   \n",
       "1             False              False   \n",
       "2             False              False   \n",
       "3             False              False   \n",
       "4             False              False   \n",
       "...             ...                ...   \n",
       "4037          False              False   \n",
       "4038          False              False   \n",
       "4039          False              False   \n",
       "4040          False              False   \n",
       "4041          False              False   \n",
       "\n",
       "      How many cups of coffee do you typically drink per day?  \\\n",
       "0                                                  True         \n",
       "1                                                  True         \n",
       "2                                                  True         \n",
       "3                                                  True         \n",
       "4                                                  True         \n",
       "...                                                 ...         \n",
       "4037                                              False         \n",
       "4038                                              False         \n",
       "4039                                              False         \n",
       "4040                                              False         \n",
       "4041                                              False         \n",
       "\n",
       "      Where do you typically drink coffee?  \\\n",
       "0                                     True   \n",
       "1                                     True   \n",
       "2                                     True   \n",
       "3                                     True   \n",
       "4                                     True   \n",
       "...                                    ...   \n",
       "4037                                 False   \n",
       "4038                                 False   \n",
       "4039                                 False   \n",
       "4040                                 False   \n",
       "4041                                 False   \n",
       "\n",
       "      Where do you typically drink coffee? (At home)  \\\n",
       "0                                               True   \n",
       "1                                               True   \n",
       "2                                               True   \n",
       "3                                               True   \n",
       "4                                               True   \n",
       "...                                              ...   \n",
       "4037                                           False   \n",
       "4038                                           False   \n",
       "4039                                           False   \n",
       "4040                                           False   \n",
       "4041                                           False   \n",
       "\n",
       "      Where do you typically drink coffee? (At the office)  \\\n",
       "0                                                  True      \n",
       "1                                                  True      \n",
       "2                                                  True      \n",
       "3                                                  True      \n",
       "4                                                  True      \n",
       "...                                                 ...      \n",
       "4037                                              False      \n",
       "4038                                              False      \n",
       "4039                                              False      \n",
       "4040                                              False      \n",
       "4041                                              False      \n",
       "\n",
       "      Where do you typically drink coffee? (On the go)  \\\n",
       "0                                                 True   \n",
       "1                                                 True   \n",
       "2                                                 True   \n",
       "3                                                 True   \n",
       "4                                                 True   \n",
       "...                                                ...   \n",
       "4037                                             False   \n",
       "4038                                             False   \n",
       "4039                                             False   \n",
       "4040                                             False   \n",
       "4041                                             False   \n",
       "\n",
       "      Where do you typically drink coffee? (At a cafe)  \\\n",
       "0                                                 True   \n",
       "1                                                 True   \n",
       "2                                                 True   \n",
       "3                                                 True   \n",
       "4                                                 True   \n",
       "...                                                ...   \n",
       "4037                                             False   \n",
       "4038                                             False   \n",
       "4039                                             False   \n",
       "4040                                             False   \n",
       "4041                                             False   \n",
       "\n",
       "      Where do you typically drink coffee? (None of these)  \\\n",
       "0                                                  True      \n",
       "1                                                  True      \n",
       "2                                                  True      \n",
       "3                                                  True      \n",
       "4                                                  True      \n",
       "...                                                 ...      \n",
       "4037                                              False      \n",
       "4038                                              False      \n",
       "4039                                              False      \n",
       "4040                                              False      \n",
       "4041                                              False      \n",
       "\n",
       "      How do you brew coffee at home?  ...  \\\n",
       "0                                True  ...   \n",
       "1                               False  ...   \n",
       "2                               False  ...   \n",
       "3                               False  ...   \n",
       "4                               False  ...   \n",
       "...                               ...  ...   \n",
       "4037                            False  ...   \n",
       "4038                            False  ...   \n",
       "4039                            False  ...   \n",
       "4040                            False  ...   \n",
       "4041                            False  ...   \n",
       "\n",
       "      What is the most you'd ever be willing to pay for a cup of coffee?  \\\n",
       "0                                                  True                    \n",
       "1                                                  True                    \n",
       "2                                                  True                    \n",
       "3                                                  True                    \n",
       "4                                                  True                    \n",
       "...                                                 ...                    \n",
       "4037                                              False                    \n",
       "4038                                              False                    \n",
       "4039                                              False                    \n",
       "4040                                              False                    \n",
       "4041                                              False                    \n",
       "\n",
       "      Do you feel like you’re getting good value for your money when you buy coffee at a cafe?  \\\n",
       "0                                                  True                                          \n",
       "1                                                  True                                          \n",
       "2                                                  True                                          \n",
       "3                                                  True                                          \n",
       "4                                                  True                                          \n",
       "...                                                 ...                                          \n",
       "4037                                              False                                          \n",
       "4038                                              False                                          \n",
       "4039                                              False                                          \n",
       "4040                                              False                                          \n",
       "4041                                              False                                          \n",
       "\n",
       "      Approximately how much have you spent on coffee equipment in the past 5 years?  \\\n",
       "0                                                  True                                \n",
       "1                                                  True                                \n",
       "2                                                  True                                \n",
       "3                                                  True                                \n",
       "4                                                  True                                \n",
       "...                                                 ...                                \n",
       "4037                                              False                                \n",
       "4038                                              False                                \n",
       "4039                                              False                                \n",
       "4040                                              False                                \n",
       "4041                                              False                                \n",
       "\n",
       "      Do you feel like you’re getting good value for your money with regards to your coffee equipment?  \\\n",
       "0                                                  True                                                  \n",
       "1                                                  True                                                  \n",
       "2                                                  True                                                  \n",
       "3                                                  True                                                  \n",
       "4                                                  True                                                  \n",
       "...                                                 ...                                                  \n",
       "4037                                              False                                                  \n",
       "4038                                              False                                                  \n",
       "4039                                              False                                                  \n",
       "4040                                              False                                                  \n",
       "4041                                              False                                                  \n",
       "\n",
       "      Gender  Education Level  Ethnicity/Race  Employment Status  \\\n",
       "0       True             True            True               True   \n",
       "1       True             True            True               True   \n",
       "2       True             True            True               True   \n",
       "3       True             True            True               True   \n",
       "4       True             True            True               True   \n",
       "...      ...              ...             ...                ...   \n",
       "4037   False            False           False              False   \n",
       "4038   False            False           False              False   \n",
       "4039   False            False           False              False   \n",
       "4040   False            False           False              False   \n",
       "4041   False            False           False              False   \n",
       "\n",
       "      Number of Children  Political Affiliation  \n",
       "0                   True                   True  \n",
       "1                   True                   True  \n",
       "2                   True                   True  \n",
       "3                   True                   True  \n",
       "4                   True                   True  \n",
       "...                  ...                    ...  \n",
       "4037               False                  False  \n",
       "4038               False                  False  \n",
       "4039                True                  False  \n",
       "4040                True                  False  \n",
       "4041               False                  False  \n",
       "\n",
       "[4042 rows x 111 columns]"
      ]
     },
     "execution_count": 10,
     "metadata": {},
     "output_type": "execute_result"
    }
   ],
   "source": [
    "df.isnull()"
   ]
  },
  {
   "cell_type": "code",
   "execution_count": 11,
   "id": "087baf36",
   "metadata": {},
   "outputs": [
    {
     "data": {
      "text/plain": [
       "Submission ID                                                 0\n",
       "What is your age?                                            31\n",
       "How many cups of coffee do you typically drink per day?      93\n",
       "Where do you typically drink coffee?                         70\n",
       "Where do you typically drink coffee? (At home)               67\n",
       "                                                           ... \n",
       "Education Level                                             604\n",
       "Ethnicity/Race                                              624\n",
       "Employment Status                                           623\n",
       "Number of Children                                         3186\n",
       "Political Affiliation                                       753\n",
       "Length: 111, dtype: int64"
      ]
     },
     "execution_count": 11,
     "metadata": {},
     "output_type": "execute_result"
    }
   ],
   "source": [
    "missing_data = df.isnull()\n",
    "df.isnull().sum()"
   ]
  },
  {
   "cell_type": "code",
   "execution_count": 12,
   "id": "97c27172",
   "metadata": {},
   "outputs": [
    {
     "name": "stdout",
     "output_type": "stream",
     "text": [
      "Index(['What kind of flavorings do you add?',\n",
      "       'What kind of flavorings do you add? (Vanilla Syrup)',\n",
      "       'What kind of flavorings do you add? (Caramel Syrup)',\n",
      "       'What kind of flavorings do you add? (Hazelnut Syrup)',\n",
      "       'What kind of flavorings do you add? (Cinnamon (Ground or Stick))',\n",
      "       'What kind of flavorings do you add? (Peppermint Syrup)',\n",
      "       'What kind of flavorings do you add? (Other)',\n",
      "       'What other flavoring do you use?',\n",
      "       'Lastly, how would you rate your own coffee expertise?',\n",
      "       'Coffee A - Bitterness', 'Coffee A - Acidity',\n",
      "       'Coffee A - Personal Preference', 'Coffee B - Bitterness',\n",
      "       'Coffee B - Acidity', 'Coffee B - Personal Preference',\n",
      "       'Coffee C - Bitterness', 'Coffee C - Acidity',\n",
      "       'Coffee C - Personal Preference', 'Coffee D - Bitterness',\n",
      "       'Coffee D - Acidity', 'Coffee D - Personal Preference'],\n",
      "      dtype='object')\n"
     ]
    }
   ],
   "source": [
    "numerical_columns = df.select_dtypes(include=['int', 'float']).columns\n",
    "print(numerical_columns)"
   ]
  },
  {
   "cell_type": "code",
   "execution_count": 13,
   "id": "611368e7",
   "metadata": {},
   "outputs": [
    {
     "name": "stdout",
     "output_type": "stream",
     "text": [
      "Submission ID                                              object\n",
      "What is your age?                                          object\n",
      "How many cups of coffee do you typically drink per day?    object\n",
      "Where do you typically drink coffee?                       object\n",
      "Where do you typically drink coffee? (At home)             object\n",
      "                                                            ...  \n",
      "Education Level                                            object\n",
      "Ethnicity/Race                                             object\n",
      "Employment Status                                          object\n",
      "Number of Children                                         object\n",
      "Political Affiliation                                      object\n",
      "Length: 111, dtype: object\n"
     ]
    }
   ],
   "source": [
    "print(df.dtypes)"
   ]
  },
  {
   "cell_type": "code",
   "execution_count": 14,
   "id": "beca99ec",
   "metadata": {},
   "outputs": [
    {
     "name": "stdout",
     "output_type": "stream",
     "text": [
      "['What kind of flavorings do you add?', 'What kind of flavorings do you add? (Vanilla Syrup)', 'What kind of flavorings do you add? (Caramel Syrup)', 'What kind of flavorings do you add? (Hazelnut Syrup)', 'What kind of flavorings do you add? (Cinnamon (Ground or Stick))', 'What kind of flavorings do you add? (Peppermint Syrup)', 'What kind of flavorings do you add? (Other)', 'What other flavoring do you use?', 'Lastly, how would you rate your own coffee expertise?', 'Coffee A - Bitterness', 'Coffee A - Acidity', 'Coffee A - Personal Preference', 'Coffee B - Bitterness', 'Coffee B - Acidity', 'Coffee B - Personal Preference', 'Coffee C - Bitterness', 'Coffee C - Acidity', 'Coffee C - Personal Preference', 'Coffee D - Bitterness', 'Coffee D - Acidity', 'Coffee D - Personal Preference']\n"
     ]
    }
   ],
   "source": [
    "float_columns = df.select_dtypes(include=['float']).columns.tolist()\n",
    "print(float_columns)"
   ]
  },
  {
   "cell_type": "code",
   "execution_count": 15,
   "id": "4038588b",
   "metadata": {},
   "outputs": [
    {
     "name": "stdout",
     "output_type": "stream",
     "text": [
      "<class 'pandas.core.series.Series'>\n",
      "RangeIndex: 4042 entries, 0 to 4041\n",
      "Series name: What kind of flavorings do you add?\n",
      "Non-Null Count  Dtype  \n",
      "--------------  -----  \n",
      "0 non-null      float64\n",
      "dtypes: float64(1)\n",
      "memory usage: 31.7 KB\n"
     ]
    }
   ],
   "source": [
    "df[\"What kind of flavorings do you add?\"].info()"
   ]
  },
  {
   "cell_type": "code",
   "execution_count": 16,
   "id": "03508e5d",
   "metadata": {},
   "outputs": [
    {
     "data": {
      "text/plain": [
       "Series([], Name: count, dtype: int64)"
      ]
     },
     "execution_count": 16,
     "metadata": {},
     "output_type": "execute_result"
    }
   ],
   "source": [
    "df[\"What kind of flavorings do you add?\"].value_counts()"
   ]
  },
  {
   "cell_type": "code",
   "execution_count": 17,
   "id": "cfb6693d",
   "metadata": {},
   "outputs": [
    {
     "data": {
      "text/plain": [
       "Coffee A - Personal Preference\n",
       "4.0    1237\n",
       "3.0     906\n",
       "2.0     709\n",
       "5.0     631\n",
       "1.0     306\n",
       "Name: count, dtype: int64"
      ]
     },
     "execution_count": 17,
     "metadata": {},
     "output_type": "execute_result"
    }
   ],
   "source": [
    "df[\"Coffee A - Personal Preference\"].value_counts()"
   ]
  },
  {
   "cell_type": "code",
   "execution_count": 18,
   "id": "d9580427",
   "metadata": {},
   "outputs": [
    {
     "data": {
      "text/plain": [
       "4042"
      ]
     },
     "execution_count": 18,
     "metadata": {},
     "output_type": "execute_result"
    }
   ],
   "source": [
    "df[\"What kind of flavorings do you add?\"].isnull().sum()"
   ]
  },
  {
   "cell_type": "code",
   "execution_count": 19,
   "id": "ee312af5",
   "metadata": {},
   "outputs": [
    {
     "data": {
      "text/plain": [
       "519"
      ]
     },
     "execution_count": 19,
     "metadata": {},
     "output_type": "execute_result"
    }
   ],
   "source": [
    "df['Gender'].isnull().sum()"
   ]
  },
  {
   "cell_type": "code",
   "execution_count": 20,
   "id": "08035332",
   "metadata": {},
   "outputs": [],
   "source": [
    "most_frequent_age_group = df[\"What is your age?\"].mode"
   ]
  },
  {
   "cell_type": "code",
   "execution_count": 21,
   "id": "fc983a3e",
   "metadata": {},
   "outputs": [
    {
     "name": "stdout",
     "output_type": "stream",
     "text": [
      "<bound method Series.mode of 0       18-24 years old\n",
      "1       25-34 years old\n",
      "2       25-34 years old\n",
      "3       35-44 years old\n",
      "4       25-34 years old\n",
      "             ...       \n",
      "4037      >65 years old\n",
      "4038      >65 years old\n",
      "4039    18-24 years old\n",
      "4040    25-34 years old\n",
      "4041    25-34 years old\n",
      "Name: What is your age?, Length: 4042, dtype: object>\n"
     ]
    }
   ],
   "source": [
    "print(most_frequent_age_group)"
   ]
  },
  {
   "cell_type": "code",
   "execution_count": 22,
   "id": "2c7fd0d4",
   "metadata": {},
   "outputs": [
    {
     "data": {
      "text/plain": [
       "0    25-34 years old\n",
       "Name: What is your age?, dtype: object"
      ]
     },
     "execution_count": 22,
     "metadata": {},
     "output_type": "execute_result"
    }
   ],
   "source": [
    "most_frequent_age_group = df[\"What is your age?\"].mode()\n",
    "most_frequent_age_group"
   ]
  },
  {
   "cell_type": "code",
   "execution_count": 23,
   "id": "3c36df91",
   "metadata": {},
   "outputs": [],
   "source": [
    "df[\"What is your age?\"].replace(np.nan, most_frequent_age_group[0], inplace=True)\n"
   ]
  },
  {
   "cell_type": "code",
   "execution_count": 24,
   "id": "89337044",
   "metadata": {},
   "outputs": [
    {
     "name": "stdout",
     "output_type": "stream",
     "text": [
      "<class 'pandas.core.series.Series'>\n",
      "RangeIndex: 4042 entries, 0 to 4041\n",
      "Series name: What is your age?\n",
      "Non-Null Count  Dtype \n",
      "--------------  ----- \n",
      "4042 non-null   object\n",
      "dtypes: object(1)\n",
      "memory usage: 31.7+ KB\n"
     ]
    }
   ],
   "source": [
    " df[\"What is your age?\"].info()"
   ]
  },
  {
   "cell_type": "code",
   "execution_count": 25,
   "id": "97cc011c",
   "metadata": {},
   "outputs": [
    {
     "data": {
      "text/plain": [
       "0    Pour over\n",
       "Name: How do you brew coffee at home?, dtype: object"
      ]
     },
     "execution_count": 25,
     "metadata": {},
     "output_type": "execute_result"
    }
   ],
   "source": [
    "brewing_method_mode = df[\"How do you brew coffee at home?\"].mode()\n",
    "brewing_method_mode"
   ]
  },
  {
   "cell_type": "code",
   "execution_count": 26,
   "id": "c96cac8c",
   "metadata": {},
   "outputs": [
    {
     "data": {
      "text/plain": [
       "How do you brew coffee at home?\n",
       "Pour over                                                                                 960\n",
       "Pour over, Espresso                                                                       358\n",
       "Espresso                                                                                  293\n",
       "Other                                                                                     206\n",
       "Coffee brewing machine (e.g. Mr. Coffee)                                                  204\n",
       "                                                                                         ... \n",
       "Espresso, Pour over, Pod/capsule machine (e.g. Keurig/Nespresso)                            1\n",
       "Pour over, French press, Espresso, Cold brew, Coffee brewing machine (e.g. Mr. Coffee)      1\n",
       "Pod/capsule machine (e.g. Keurig/Nespresso), Pour over, Instant coffee, Cold brew           1\n",
       "Cold brew, Pour over, French press                                                          1\n",
       "Espresso, Pod/capsule machine (e.g. Keurig/Nespresso), Instant coffee, Other                1\n",
       "Name: count, Length: 449, dtype: int64"
      ]
     },
     "execution_count": 26,
     "metadata": {},
     "output_type": "execute_result"
    }
   ],
   "source": [
    "df[\"How do you brew coffee at home?\"].replace(np.nan, brewing_method_mode[0], inplace=True)\n",
    "df[\"How do you brew coffee at home?\"].value_counts()"
   ]
  },
  {
   "cell_type": "code",
   "execution_count": 27,
   "id": "6d283eb6",
   "metadata": {},
   "outputs": [
    {
     "data": {
      "text/plain": [
       "What is your favorite coffee drink?\n",
       "Pourover                            1084\n",
       "Latte                                680\n",
       "Regular drip coffee                  442\n",
       "Cappuccino                           341\n",
       "Espresso                             330\n",
       "Cortado                              312\n",
       "Americano                            249\n",
       "Iced coffee                          156\n",
       "Mocha                                118\n",
       "Other                                114\n",
       "Cold brew                            109\n",
       "Blended drink (e.g. Frappuccino)      45\n",
       "Name: count, dtype: int64"
      ]
     },
     "execution_count": 27,
     "metadata": {},
     "output_type": "execute_result"
    }
   ],
   "source": [
    "df[\"What is your favorite coffee drink?\"].value_counts()"
   ]
  },
  {
   "cell_type": "code",
   "execution_count": 28,
   "id": "ce02fb67",
   "metadata": {},
   "outputs": [
    {
     "data": {
      "text/plain": [
       "count         3980\n",
       "unique          12\n",
       "top       Pourover\n",
       "freq          1084\n",
       "Name: What is your favorite coffee drink?, dtype: object"
      ]
     },
     "execution_count": 28,
     "metadata": {},
     "output_type": "execute_result"
    }
   ],
   "source": [
    "df[\"What is your favorite coffee drink?\"].describe()"
   ]
  },
  {
   "cell_type": "code",
   "execution_count": 29,
   "id": "cf7a0bb7",
   "metadata": {},
   "outputs": [
    {
     "data": {
      "text/plain": [
       "0    Pourover\n",
       "Name: What is your favorite coffee drink?, dtype: object"
      ]
     },
     "execution_count": 29,
     "metadata": {},
     "output_type": "execute_result"
    }
   ],
   "source": [
    "mode_favorite_drink = df[\"What is your favorite coffee drink?\"].mode()\n",
    "mode_favorite_drink"
   ]
  },
  {
   "cell_type": "code",
   "execution_count": 30,
   "id": "a594b940",
   "metadata": {},
   "outputs": [
    {
     "data": {
      "text/plain": [
       "What is your favorite coffee drink?\n",
       "Pourover                            1146\n",
       "Latte                                680\n",
       "Regular drip coffee                  442\n",
       "Cappuccino                           341\n",
       "Espresso                             330\n",
       "Cortado                              312\n",
       "Americano                            249\n",
       "Iced coffee                          156\n",
       "Mocha                                118\n",
       "Other                                114\n",
       "Cold brew                            109\n",
       "Blended drink (e.g. Frappuccino)      45\n",
       "Name: count, dtype: int64"
      ]
     },
     "execution_count": 30,
     "metadata": {},
     "output_type": "execute_result"
    }
   ],
   "source": [
    "df[\"What is your favorite coffee drink?\"].replace(np.nan, mode_favorite_drink[0], inplace=True)\n",
    "df[\"What is your favorite coffee drink?\"].value_counts()"
   ]
  },
  {
   "cell_type": "code",
   "execution_count": 31,
   "id": "8a237fa6",
   "metadata": {},
   "outputs": [
    {
     "data": {
      "text/plain": [
       "Do you usually add anything to your coffee?\n",
       "No - just black                                                                                         2154\n",
       "Milk, dairy alternative, or coffee creamer                                                               772\n",
       "No - just black, Milk, dairy alternative, or coffee creamer                                              273\n",
       "Milk, dairy alternative, or coffee creamer, Sugar or sweetener                                           272\n",
       "Milk, dairy alternative, or coffee creamer, Flavor syrup                                                  76\n",
       "Milk, dairy alternative, or coffee creamer, No - just black                                               69\n",
       "Milk, dairy alternative, or coffee creamer, Sugar or sweetener, Flavor syrup                              57\n",
       "Sugar or sweetener                                                                                        50\n",
       "Sugar or sweetener, Milk, dairy alternative, or coffee creamer                                            41\n",
       "No - just black, Milk, dairy alternative, or coffee creamer, Sugar or sweetener                           24\n",
       "Flavor syrup, Milk, dairy alternative, or coffee creamer                                                  21\n",
       "No - just black, Milk, dairy alternative, or coffee creamer, Flavor syrup                                 20\n",
       "Other                                                                                                     20\n",
       "No - just black, Sugar or sweetener                                                                       12\n",
       "No - just black, Milk, dairy alternative, or coffee creamer, Sugar or sweetener, Flavor syrup             11\n",
       "Milk, dairy alternative, or coffee creamer, Sugar or sweetener, No - just black                            8\n",
       "Milk, dairy alternative, or coffee creamer, Other                                                          7\n",
       "Flavor syrup                                                                                               6\n",
       "Flavor syrup, Sugar or sweetener, Milk, dairy alternative, or coffee creamer                               5\n",
       "Sugar or sweetener, Milk, dairy alternative, or coffee creamer, Flavor syrup                               5\n",
       "No - just black, Flavor syrup                                                                              4\n",
       "Milk, dairy alternative, or coffee creamer, Sugar or sweetener, Other                                      4\n",
       "Milk, dairy alternative, or coffee creamer, Flavor syrup, No - just black                                  4\n",
       "No - just black, Other                                                                                     4\n",
       "Sugar or sweetener, Milk, dairy alternative, or coffee creamer, No - just black                            4\n",
       "Milk, dairy alternative, or coffee creamer, No - just black, Flavor syrup                                  3\n",
       "No - just black, Sugar or sweetener, Milk, dairy alternative, or coffee creamer                            3\n",
       "Milk, dairy alternative, or coffee creamer, Flavor syrup, Sugar or sweetener                               2\n",
       "Sugar or sweetener, No - just black                                                                        2\n",
       "Milk, dairy alternative, or coffee creamer, No - just black, Sugar or sweetener                            2\n",
       "Milk, dairy alternative, or coffee creamer, Flavor syrup, Other                                            2\n",
       "Other, No - just black                                                                                     1\n",
       "No - just black, Flavor syrup, Sugar or sweetener, Milk, dairy alternative, or coffee creamer              1\n",
       "Flavor syrup, No - just black, Milk, dairy alternative, or coffee creamer                                  1\n",
       "No - just black, Milk, dairy alternative, or coffee creamer, Other, Flavor syrup                           1\n",
       "Flavor syrup, Milk, dairy alternative, or coffee creamer, Sugar or sweetener                               1\n",
       "Sugar or sweetener, Flavor syrup, Milk, dairy alternative, or coffee creamer                               1\n",
       "Flavor syrup, Sugar or sweetener                                                                           1\n",
       "Sugar or sweetener, Milk, dairy alternative, or coffee creamer, No - just black, Flavor syrup              1\n",
       "No - just black, Milk, dairy alternative, or coffee creamer, Other                                         1\n",
       "Milk, dairy alternative, or coffee creamer, Sugar or sweetener, Flavor syrup, Other                        1\n",
       "No - just black, Sugar or sweetener, Flavor syrup                                                          1\n",
       "No - just black, Flavor syrup, Milk, dairy alternative, or coffee creamer                                  1\n",
       "Milk, dairy alternative, or coffee creamer, Sugar or sweetener, Flavor syrup, No - just black              1\n",
       "Sugar or sweetener, Other                                                                                  1\n",
       "No - just black, Other, Milk, dairy alternative, or coffee creamer, Flavor syrup, Sugar or sweetener       1\n",
       "Other, Milk, dairy alternative, or coffee creamer                                                          1\n",
       "No - just black, Cinnamon                                                                                  1\n",
       "Half & half                                                                                                1\n",
       "Flavor syrup, Sugar or sweetener, Milk, dairy alternative, or coffee creamer, No - just black, Other       1\n",
       "No - just black, Sugar or sweetener, Milk, dairy alternative, or coffee creamer, Flavor syrup              1\n",
       "Sugar or sweetener, Flavor syrup                                                                           1\n",
       "Milk, dairy alternative, or coffee creamer, Other, No - just black                                         1\n",
       "Name: count, dtype: int64"
      ]
     },
     "execution_count": 31,
     "metadata": {},
     "output_type": "execute_result"
    }
   ],
   "source": [
    "df[\"Do you usually add anything to your coffee?\"].value_counts()"
   ]
  },
  {
   "cell_type": "code",
   "execution_count": 32,
   "id": "425e812e",
   "metadata": {},
   "outputs": [
    {
     "data": {
      "text/plain": [
       "0    No - just black\n",
       "Name: Do you usually add anything to your coffee?, dtype: object"
      ]
     },
     "execution_count": 32,
     "metadata": {},
     "output_type": "execute_result"
    }
   ],
   "source": [
    "mode_coffee_addings = df[\"Do you usually add anything to your coffee?\"].mode()\n",
    "mode_coffee_addings"
   ]
  },
  {
   "cell_type": "code",
   "execution_count": 33,
   "id": "52e2ce4b",
   "metadata": {},
   "outputs": [
    {
     "data": {
      "text/plain": [
       "Do you usually add anything to your coffee?\n",
       "No - just black                                                                                         2237\n",
       "Milk, dairy alternative, or coffee creamer                                                               772\n",
       "No - just black, Milk, dairy alternative, or coffee creamer                                              273\n",
       "Milk, dairy alternative, or coffee creamer, Sugar or sweetener                                           272\n",
       "Milk, dairy alternative, or coffee creamer, Flavor syrup                                                  76\n",
       "Milk, dairy alternative, or coffee creamer, No - just black                                               69\n",
       "Milk, dairy alternative, or coffee creamer, Sugar or sweetener, Flavor syrup                              57\n",
       "Sugar or sweetener                                                                                        50\n",
       "Sugar or sweetener, Milk, dairy alternative, or coffee creamer                                            41\n",
       "No - just black, Milk, dairy alternative, or coffee creamer, Sugar or sweetener                           24\n",
       "Flavor syrup, Milk, dairy alternative, or coffee creamer                                                  21\n",
       "No - just black, Milk, dairy alternative, or coffee creamer, Flavor syrup                                 20\n",
       "Other                                                                                                     20\n",
       "No - just black, Sugar or sweetener                                                                       12\n",
       "No - just black, Milk, dairy alternative, or coffee creamer, Sugar or sweetener, Flavor syrup             11\n",
       "Milk, dairy alternative, or coffee creamer, Sugar or sweetener, No - just black                            8\n",
       "Milk, dairy alternative, or coffee creamer, Other                                                          7\n",
       "Flavor syrup                                                                                               6\n",
       "Flavor syrup, Sugar or sweetener, Milk, dairy alternative, or coffee creamer                               5\n",
       "Sugar or sweetener, Milk, dairy alternative, or coffee creamer, Flavor syrup                               5\n",
       "No - just black, Flavor syrup                                                                              4\n",
       "Milk, dairy alternative, or coffee creamer, Sugar or sweetener, Other                                      4\n",
       "Milk, dairy alternative, or coffee creamer, Flavor syrup, No - just black                                  4\n",
       "No - just black, Other                                                                                     4\n",
       "Sugar or sweetener, Milk, dairy alternative, or coffee creamer, No - just black                            4\n",
       "Milk, dairy alternative, or coffee creamer, No - just black, Flavor syrup                                  3\n",
       "No - just black, Sugar or sweetener, Milk, dairy alternative, or coffee creamer                            3\n",
       "Milk, dairy alternative, or coffee creamer, Flavor syrup, Sugar or sweetener                               2\n",
       "Sugar or sweetener, No - just black                                                                        2\n",
       "Milk, dairy alternative, or coffee creamer, No - just black, Sugar or sweetener                            2\n",
       "Milk, dairy alternative, or coffee creamer, Flavor syrup, Other                                            2\n",
       "Other, No - just black                                                                                     1\n",
       "No - just black, Flavor syrup, Sugar or sweetener, Milk, dairy alternative, or coffee creamer              1\n",
       "Flavor syrup, No - just black, Milk, dairy alternative, or coffee creamer                                  1\n",
       "No - just black, Milk, dairy alternative, or coffee creamer, Other, Flavor syrup                           1\n",
       "Flavor syrup, Milk, dairy alternative, or coffee creamer, Sugar or sweetener                               1\n",
       "Sugar or sweetener, Flavor syrup, Milk, dairy alternative, or coffee creamer                               1\n",
       "Flavor syrup, Sugar or sweetener                                                                           1\n",
       "Sugar or sweetener, Milk, dairy alternative, or coffee creamer, No - just black, Flavor syrup              1\n",
       "No - just black, Milk, dairy alternative, or coffee creamer, Other                                         1\n",
       "Milk, dairy alternative, or coffee creamer, Sugar or sweetener, Flavor syrup, Other                        1\n",
       "No - just black, Sugar or sweetener, Flavor syrup                                                          1\n",
       "No - just black, Flavor syrup, Milk, dairy alternative, or coffee creamer                                  1\n",
       "Milk, dairy alternative, or coffee creamer, Sugar or sweetener, Flavor syrup, No - just black              1\n",
       "Sugar or sweetener, Other                                                                                  1\n",
       "No - just black, Other, Milk, dairy alternative, or coffee creamer, Flavor syrup, Sugar or sweetener       1\n",
       "Other, Milk, dairy alternative, or coffee creamer                                                          1\n",
       "No - just black, Cinnamon                                                                                  1\n",
       "Half & half                                                                                                1\n",
       "Flavor syrup, Sugar or sweetener, Milk, dairy alternative, or coffee creamer, No - just black, Other       1\n",
       "No - just black, Sugar or sweetener, Milk, dairy alternative, or coffee creamer, Flavor syrup              1\n",
       "Sugar or sweetener, Flavor syrup                                                                           1\n",
       "Milk, dairy alternative, or coffee creamer, Other, No - just black                                         1\n",
       "Name: count, dtype: int64"
      ]
     },
     "execution_count": 33,
     "metadata": {},
     "output_type": "execute_result"
    }
   ],
   "source": [
    "df[\"Do you usually add anything to your coffee?\"].replace(np.nan, mode_coffee_addings[0], inplace=True)\n",
    "df[\"Do you usually add anything to your coffee?\"].value_counts()"
   ]
  },
  {
   "cell_type": "code",
   "execution_count": 34,
   "id": "4c8c0509",
   "metadata": {},
   "outputs": [
    {
     "name": "stdout",
     "output_type": "stream",
     "text": [
      "['What roast level of coffee do you prefer?']\n"
     ]
    }
   ],
   "source": [
    "matching_columns = [col for col in df.columns if \"What\" in col and \"roast\" in col]\n",
    "\n",
    "print(matching_columns)\n"
   ]
  },
  {
   "cell_type": "code",
   "execution_count": 35,
   "id": "21e4f418",
   "metadata": {},
   "outputs": [
    {
     "data": {
      "text/plain": [
       "0    Light\n",
       "Name: What roast level of coffee do you prefer?, dtype: object"
      ]
     },
     "execution_count": 35,
     "metadata": {},
     "output_type": "execute_result"
    }
   ],
   "source": [
    "mode_roast_level = df[\"What roast level of coffee do you prefer?\"].mode()\n",
    "mode_roast_level"
   ]
  },
  {
   "cell_type": "code",
   "execution_count": 36,
   "id": "ab533590",
   "metadata": {},
   "outputs": [
    {
     "data": {
      "text/plain": [
       "What roast level of coffee do you prefer?\n",
       "Light      1880\n",
       "Medium     1557\n",
       "Dark        409\n",
       "Nordic       78\n",
       "Blonde       74\n",
       "Italian      23\n",
       "French       21\n",
       "Name: count, dtype: int64"
      ]
     },
     "execution_count": 36,
     "metadata": {},
     "output_type": "execute_result"
    }
   ],
   "source": [
    "df[\"What roast level of coffee do you prefer?\"].replace(np.nan, mode_roast_level[0], inplace=True)\n",
    "df[\"What roast level of coffee do you prefer?\"].value_counts()"
   ]
  },
  {
   "cell_type": "code",
   "execution_count": 37,
   "id": "39d3f21f",
   "metadata": {},
   "outputs": [
    {
     "data": {
      "text/plain": [
       "count                3418\n",
       "unique                  6\n",
       "top       White/Caucasian\n",
       "freq                 2626\n",
       "Name: Ethnicity/Race, dtype: object"
      ]
     },
     "execution_count": 37,
     "metadata": {},
     "output_type": "execute_result"
    }
   ],
   "source": [
    "df[\"Ethnicity/Race\"].describe()"
   ]
  },
  {
   "cell_type": "code",
   "execution_count": 38,
   "id": "8c845b2e",
   "metadata": {},
   "outputs": [
    {
     "name": "stdout",
     "output_type": "stream",
     "text": [
      "<class 'pandas.core.series.Series'>\n",
      "RangeIndex: 4042 entries, 0 to 4041\n",
      "Series name: Ethnicity/Race\n",
      "Non-Null Count  Dtype \n",
      "--------------  ----- \n",
      "3418 non-null   object\n",
      "dtypes: object(1)\n",
      "memory usage: 31.7+ KB\n"
     ]
    }
   ],
   "source": [
    "df[\"Ethnicity/Race\"].info()"
   ]
  },
  {
   "cell_type": "code",
   "execution_count": 39,
   "id": "d9345e46",
   "metadata": {},
   "outputs": [
    {
     "data": {
      "text/plain": [
       "0    White/Caucasian\n",
       "Name: Ethnicity/Race, dtype: object"
      ]
     },
     "execution_count": 39,
     "metadata": {},
     "output_type": "execute_result"
    }
   ],
   "source": [
    "mode_race = df[\"Ethnicity/Race\"].mode()\n",
    "mode_race"
   ]
  },
  {
   "cell_type": "code",
   "execution_count": 40,
   "id": "46a7a92d",
   "metadata": {},
   "outputs": [
    {
     "name": "stdout",
     "output_type": "stream",
     "text": [
      "<class 'pandas.core.series.Series'>\n",
      "RangeIndex: 4042 entries, 0 to 4041\n",
      "Series name: Ethnicity/Race\n",
      "Non-Null Count  Dtype \n",
      "--------------  ----- \n",
      "4042 non-null   object\n",
      "dtypes: object(1)\n",
      "memory usage: 31.7+ KB\n"
     ]
    }
   ],
   "source": [
    "df[\"Ethnicity/Race\"].replace(np.nan, mode_race[0], inplace=True)\n",
    "df[\"Ethnicity/Race\"].info()"
   ]
  },
  {
   "cell_type": "code",
   "execution_count": 41,
   "id": "c610240f",
   "metadata": {},
   "outputs": [
    {
     "name": "stdout",
     "output_type": "stream",
     "text": [
      "<class 'pandas.core.series.Series'>\n",
      "RangeIndex: 4042 entries, 0 to 4041\n",
      "Series name: Education Level\n",
      "Non-Null Count  Dtype \n",
      "--------------  ----- \n",
      "3438 non-null   object\n",
      "dtypes: object(1)\n",
      "memory usage: 31.7+ KB\n"
     ]
    }
   ],
   "source": [
    "df[\"Education Level\"].info()"
   ]
  },
  {
   "cell_type": "code",
   "execution_count": 42,
   "id": "e46bd22a",
   "metadata": {},
   "outputs": [
    {
     "data": {
      "text/plain": [
       "0    Bachelor's degree\n",
       "Name: Education Level, dtype: object"
      ]
     },
     "execution_count": 42,
     "metadata": {},
     "output_type": "execute_result"
    }
   ],
   "source": [
    "mode_education = df[\"Education Level\"].mode()\n",
    "mode_education"
   ]
  },
  {
   "cell_type": "code",
   "execution_count": 43,
   "id": "eb0d318a",
   "metadata": {},
   "outputs": [
    {
     "data": {
      "text/plain": [
       "count                  4042\n",
       "unique                    6\n",
       "top       Bachelor's degree\n",
       "freq                   2363\n",
       "Name: Education Level, dtype: object"
      ]
     },
     "execution_count": 43,
     "metadata": {},
     "output_type": "execute_result"
    }
   ],
   "source": [
    "df[\"Education Level\"].replace(np.nan, mode_education[0], inplace=True)\n",
    "df[\"Education Level\"].describe()"
   ]
  },
  {
   "cell_type": "code",
   "execution_count": 44,
   "id": "67413e1a",
   "metadata": {},
   "outputs": [
    {
     "name": "stdout",
     "output_type": "stream",
     "text": [
      "<class 'pandas.core.series.Series'>\n",
      "RangeIndex: 4042 entries, 0 to 4041\n",
      "Series name: Employment Status\n",
      "Non-Null Count  Dtype \n",
      "--------------  ----- \n",
      "3419 non-null   object\n",
      "dtypes: object(1)\n",
      "memory usage: 31.7+ KB\n"
     ]
    }
   ],
   "source": [
    "df[\"Employment Status\"].info()"
   ]
  },
  {
   "cell_type": "code",
   "execution_count": 45,
   "id": "2b523a45",
   "metadata": {},
   "outputs": [
    {
     "data": {
      "text/plain": [
       "0    Employed full-time\n",
       "Name: Employment Status, dtype: object"
      ]
     },
     "execution_count": 45,
     "metadata": {},
     "output_type": "execute_result"
    }
   ],
   "source": [
    "mode_employment = df[\"Employment Status\"].mode()\n",
    "mode_employment"
   ]
  },
  {
   "cell_type": "code",
   "execution_count": 46,
   "id": "5fea53c8",
   "metadata": {},
   "outputs": [
    {
     "data": {
      "text/plain": [
       "Employment Status\n",
       "Employed full-time    2708\n",
       "Student                221\n",
       "Employed part-time     201\n",
       "Unemployed             126\n",
       "Retired                 85\n",
       "Homemaker               78\n",
       "Name: count, dtype: int64"
      ]
     },
     "execution_count": 46,
     "metadata": {},
     "output_type": "execute_result"
    }
   ],
   "source": [
    "df[\"Employment Status\"].value_counts()"
   ]
  },
  {
   "cell_type": "code",
   "execution_count": 47,
   "id": "145a5949",
   "metadata": {},
   "outputs": [
    {
     "name": "stdout",
     "output_type": "stream",
     "text": [
      "<class 'pandas.core.series.Series'>\n",
      "RangeIndex: 4042 entries, 0 to 4041\n",
      "Series name: Employment Status\n",
      "Non-Null Count  Dtype \n",
      "--------------  ----- \n",
      "4042 non-null   object\n",
      "dtypes: object(1)\n",
      "memory usage: 31.7+ KB\n"
     ]
    }
   ],
   "source": [
    "df[\"Employment Status\"].replace(np.nan, mode_employment[0], inplace=True)\n",
    "df[\"Employment Status\"].info()"
   ]
  },
  {
   "cell_type": "code",
   "execution_count": 48,
   "id": "f2d9f8bb",
   "metadata": {},
   "outputs": [
    {
     "name": "stdout",
     "output_type": "stream",
     "text": [
      "<class 'pandas.core.series.Series'>\n",
      "RangeIndex: 4042 entries, 0 to 4041\n",
      "Series name: Political Affiliation\n",
      "Non-Null Count  Dtype \n",
      "--------------  ----- \n",
      "3289 non-null   object\n",
      "dtypes: object(1)\n",
      "memory usage: 31.7+ KB\n"
     ]
    }
   ],
   "source": [
    "df[\"Political Affiliation\"].info()"
   ]
  },
  {
   "cell_type": "code",
   "execution_count": 49,
   "id": "dccc63d5",
   "metadata": {},
   "outputs": [
    {
     "data": {
      "text/plain": [
       "0    Democrat\n",
       "Name: Political Affiliation, dtype: object"
      ]
     },
     "execution_count": 49,
     "metadata": {},
     "output_type": "execute_result"
    }
   ],
   "source": [
    "mode_political = df[\"Political Affiliation\"].mode()\n",
    "mode_political"
   ]
  },
  {
   "cell_type": "code",
   "execution_count": 50,
   "id": "d5f7750d",
   "metadata": {},
   "outputs": [
    {
     "name": "stdout",
     "output_type": "stream",
     "text": [
      "<class 'pandas.core.series.Series'>\n",
      "RangeIndex: 4042 entries, 0 to 4041\n",
      "Series name: Political Affiliation\n",
      "Non-Null Count  Dtype \n",
      "--------------  ----- \n",
      "4042 non-null   object\n",
      "dtypes: object(1)\n",
      "memory usage: 31.7+ KB\n"
     ]
    }
   ],
   "source": [
    "df[\"Political Affiliation\"].replace(np.nan, mode_political[0], inplace=True)\n",
    "df[\"Political Affiliation\"].info()"
   ]
  },
  {
   "cell_type": "code",
   "execution_count": 51,
   "id": "7bf7ed8c",
   "metadata": {},
   "outputs": [
    {
     "name": "stdout",
     "output_type": "stream",
     "text": [
      "['Do you work from home or in person?', 'Do you know where your coffee comes from?']\n"
     ]
    }
   ],
   "source": [
    "matching_columns = [col for col in df.columns if \"from\" in col]\n",
    "\n",
    "print(matching_columns)"
   ]
  },
  {
   "cell_type": "code",
   "execution_count": 52,
   "id": "fd5af01e",
   "metadata": {},
   "outputs": [
    {
     "name": "stdout",
     "output_type": "stream",
     "text": [
      "<class 'pandas.core.series.Series'>\n",
      "RangeIndex: 4042 entries, 0 to 4041\n",
      "Series name: Do you work from home or in person?\n",
      "Non-Null Count  Dtype \n",
      "--------------  ----- \n",
      "3524 non-null   object\n",
      "dtypes: object(1)\n",
      "memory usage: 31.7+ KB\n"
     ]
    }
   ],
   "source": [
    "df[\"Do you work from home or in person?\"].info()"
   ]
  },
  {
   "cell_type": "code",
   "execution_count": 53,
   "id": "fbe0050c",
   "metadata": {},
   "outputs": [
    {
     "data": {
      "text/plain": [
       "0    I primarily work from home\n",
       "Name: Do you work from home or in person?, dtype: object"
      ]
     },
     "execution_count": 53,
     "metadata": {},
     "output_type": "execute_result"
    }
   ],
   "source": [
    "mode_work_type = df[\"Do you work from home or in person?\"].mode()\n",
    "mode_work_type"
   ]
  },
  {
   "cell_type": "code",
   "execution_count": 54,
   "id": "9820c828",
   "metadata": {},
   "outputs": [
    {
     "name": "stdout",
     "output_type": "stream",
     "text": [
      "<class 'pandas.core.series.Series'>\n",
      "RangeIndex: 4042 entries, 0 to 4041\n",
      "Series name: Do you work from home or in person?\n",
      "Non-Null Count  Dtype \n",
      "--------------  ----- \n",
      "4042 non-null   object\n",
      "dtypes: object(1)\n",
      "memory usage: 31.7+ KB\n"
     ]
    }
   ],
   "source": [
    "df[\"Do you work from home or in person?\"].replace(np.nan, mode_work_type[0], inplace=True)\n",
    "df[\"Do you work from home or in person?\"].info()"
   ]
  },
  {
   "cell_type": "code",
   "execution_count": 55,
   "id": "71f315d0",
   "metadata": {},
   "outputs": [
    {
     "name": "stdout",
     "output_type": "stream",
     "text": [
      "['How many cups of coffee do you typically drink per day?']\n"
     ]
    }
   ],
   "source": [
    "matching_columns = [col for col in df.columns if \"How\" in col and \"many\" in col]\n",
    "\n",
    "print(matching_columns)"
   ]
  },
  {
   "cell_type": "code",
   "execution_count": 56,
   "id": "07934724",
   "metadata": {},
   "outputs": [
    {
     "name": "stdout",
     "output_type": "stream",
     "text": [
      "<class 'pandas.core.series.Series'>\n",
      "RangeIndex: 4042 entries, 0 to 4041\n",
      "Series name: How many cups of coffee do you typically drink per day?\n",
      "Non-Null Count  Dtype \n",
      "--------------  ----- \n",
      "3949 non-null   object\n",
      "dtypes: object(1)\n",
      "memory usage: 31.7+ KB\n"
     ]
    }
   ],
   "source": [
    "df[\"How many cups of coffee do you typically drink per day?\"].info()"
   ]
  },
  {
   "cell_type": "code",
   "execution_count": 57,
   "id": "69f82874",
   "metadata": {},
   "outputs": [
    {
     "data": {
      "text/plain": [
       "0    2\n",
       "Name: How many cups of coffee do you typically drink per day?, dtype: object"
      ]
     },
     "execution_count": 57,
     "metadata": {},
     "output_type": "execute_result"
    }
   ],
   "source": [
    "mode_cups_of_coffee = df[\"How many cups of coffee do you typically drink per day?\"].mode()\n",
    "mode_cups_of_coffee"
   ]
  },
  {
   "cell_type": "code",
   "execution_count": 58,
   "id": "4b005386",
   "metadata": {},
   "outputs": [
    {
     "name": "stdout",
     "output_type": "stream",
     "text": [
      "<class 'pandas.core.series.Series'>\n",
      "RangeIndex: 4042 entries, 0 to 4041\n",
      "Series name: How many cups of coffee do you typically drink per day?\n",
      "Non-Null Count  Dtype \n",
      "--------------  ----- \n",
      "4042 non-null   object\n",
      "dtypes: object(1)\n",
      "memory usage: 31.7+ KB\n"
     ]
    }
   ],
   "source": [
    "df[\"How many cups of coffee do you typically drink per day?\"].replace(np.nan,mode_cups_of_coffee[0], inplace=True)\n",
    "df[\"How many cups of coffee do you typically drink per day?\"].info()"
   ]
  },
  {
   "cell_type": "code",
   "execution_count": 59,
   "id": "207c7f4a",
   "metadata": {},
   "outputs": [
    {
     "name": "stdout",
     "output_type": "stream",
     "text": [
      "['How many cups of coffee do you typically drink per day?', 'How do you brew coffee at home? (Bean-to-cup machine)', 'How much caffeine do you like in your coffee?', 'In total, much money do you typically spend on coffee in a month?', \"What is the most you've ever paid for a cup of coffee?\", \"What is the most you'd ever be willing to pay for a cup of coffee?\", 'Do you feel like you’re getting good value for your money when you buy coffee at a cafe?', 'Approximately how much have you spent on coffee equipment in the past 5 years?', 'Do you feel like you’re getting good value for your money with regards to your coffee equipment?']\n"
     ]
    }
   ],
   "source": [
    "matching_columns = [col for col in df.columns if \"much\" in col or \"value\" in col or \"cup\" in col or \"money\" in col]\n",
    "\n",
    "print(matching_columns)"
   ]
  },
  {
   "cell_type": "code",
   "execution_count": 60,
   "id": "27de4d0e",
   "metadata": {},
   "outputs": [
    {
     "name": "stdout",
     "output_type": "stream",
     "text": [
      "<class 'pandas.core.series.Series'>\n",
      "RangeIndex: 4042 entries, 0 to 4041\n",
      "Series name: What is the most you've ever paid for a cup of coffee?\n",
      "Non-Null Count  Dtype \n",
      "--------------  ----- \n",
      "3527 non-null   object\n",
      "dtypes: object(1)\n",
      "memory usage: 31.7+ KB\n"
     ]
    }
   ],
   "source": [
    "df[\"What is the most you've ever paid for a cup of coffee?\"].info()"
   ]
  },
  {
   "cell_type": "code",
   "execution_count": 61,
   "id": "51188380",
   "metadata": {},
   "outputs": [
    {
     "data": {
      "text/plain": [
       "What is the most you've ever paid for a cup of coffee?\n",
       "$6-$8            1095\n",
       "$8-$10           1000\n",
       "$10-$15           616\n",
       "$4-$6             451\n",
       "$15-$20           181\n",
       "More than $20     129\n",
       "$2-$4              43\n",
       "Less than $2       12\n",
       "Name: count, dtype: int64"
      ]
     },
     "execution_count": 61,
     "metadata": {},
     "output_type": "execute_result"
    }
   ],
   "source": [
    "df[\"What is the most you've ever paid for a cup of coffee?\"].value_counts()"
   ]
  },
  {
   "cell_type": "code",
   "execution_count": 62,
   "id": "36c60ad4",
   "metadata": {},
   "outputs": [
    {
     "data": {
      "text/plain": [
       "0    $6-$8\n",
       "Name: What is the most you've ever paid for a cup of coffee?, dtype: object"
      ]
     },
     "execution_count": 62,
     "metadata": {},
     "output_type": "execute_result"
    }
   ],
   "source": [
    "mode_most_paid_on_cofee = df[\"What is the most you've ever paid for a cup of coffee?\"].mode()\n",
    "mode_most_paid_on_cofee"
   ]
  },
  {
   "cell_type": "code",
   "execution_count": 63,
   "id": "6d5599f2",
   "metadata": {},
   "outputs": [
    {
     "name": "stdout",
     "output_type": "stream",
     "text": [
      "<class 'pandas.core.series.Series'>\n",
      "RangeIndex: 4042 entries, 0 to 4041\n",
      "Series name: What is the most you've ever paid for a cup of coffee?\n",
      "Non-Null Count  Dtype \n",
      "--------------  ----- \n",
      "4042 non-null   object\n",
      "dtypes: object(1)\n",
      "memory usage: 31.7+ KB\n"
     ]
    }
   ],
   "source": [
    "df[\"What is the most you've ever paid for a cup of coffee?\"].replace(np.nan,mode_most_paid_on_cofee[0], inplace=True)\n",
    "df[\"What is the most you've ever paid for a cup of coffee?\"].info()"
   ]
  },
  {
   "cell_type": "code",
   "execution_count": 64,
   "id": "80a07ef7",
   "metadata": {},
   "outputs": [
    {
     "name": "stdout",
     "output_type": "stream",
     "text": [
      "<class 'pandas.core.series.Series'>\n",
      "RangeIndex: 4042 entries, 0 to 4041\n",
      "Series name: What is the most you'd ever be willing to pay for a cup of coffee?\n",
      "Non-Null Count  Dtype \n",
      "--------------  ----- \n",
      "3510 non-null   object\n",
      "dtypes: object(1)\n",
      "memory usage: 31.7+ KB\n"
     ]
    }
   ],
   "source": [
    "df[\"What is the most you'd ever be willing to pay for a cup of coffee?\"].info()"
   ]
  },
  {
   "cell_type": "code",
   "execution_count": 65,
   "id": "9cf90879",
   "metadata": {},
   "outputs": [
    {
     "data": {
      "text/plain": [
       "0    $8-$10\n",
       "Name: What is the most you'd ever be willing to pay for a cup of coffee?, dtype: object"
      ]
     },
     "execution_count": 65,
     "metadata": {},
     "output_type": "execute_result"
    }
   ],
   "source": [
    "mode_most_willing_on_coffee = df[\"What is the most you'd ever be willing to pay for a cup of coffee?\"].mode()\n",
    "mode_most_willing_on_coffee"
   ]
  },
  {
   "cell_type": "code",
   "execution_count": 66,
   "id": "7c8b3e41",
   "metadata": {},
   "outputs": [
    {
     "name": "stdout",
     "output_type": "stream",
     "text": [
      "<class 'pandas.core.series.Series'>\n",
      "RangeIndex: 4042 entries, 0 to 4041\n",
      "Series name: What is the most you'd ever be willing to pay for a cup of coffee?\n",
      "Non-Null Count  Dtype \n",
      "--------------  ----- \n",
      "4042 non-null   object\n",
      "dtypes: object(1)\n",
      "memory usage: 31.7+ KB\n"
     ]
    }
   ],
   "source": [
    "df[\"What is the most you'd ever be willing to pay for a cup of coffee?\"].replace(np.nan, mode_most_willing_on_coffee[0], inplace=True)\n",
    "df[\"What is the most you'd ever be willing to pay for a cup of coffee?\"].info()"
   ]
  },
  {
   "cell_type": "code",
   "execution_count": 67,
   "id": "f4e62cd8",
   "metadata": {},
   "outputs": [
    {
     "name": "stdout",
     "output_type": "stream",
     "text": [
      "<class 'pandas.core.series.Series'>\n",
      "RangeIndex: 4042 entries, 0 to 4041\n",
      "Series name: In total, much money do you typically spend on coffee in a month?\n",
      "Non-Null Count  Dtype \n",
      "--------------  ----- \n",
      "3511 non-null   object\n",
      "dtypes: object(1)\n",
      "memory usage: 31.7+ KB\n"
     ]
    }
   ],
   "source": [
    "df[\"In total, much money do you typically spend on coffee in a month?\"].info()"
   ]
  },
  {
   "cell_type": "code",
   "execution_count": 68,
   "id": "91a4be3a",
   "metadata": {},
   "outputs": [
    {
     "data": {
      "text/plain": [
       "0    $20-$40\n",
       "Name: In total, much money do you typically spend on coffee in a month?, dtype: object"
      ]
     },
     "execution_count": 68,
     "metadata": {},
     "output_type": "execute_result"
    }
   ],
   "source": [
    "mode_total_money_month = df[\"In total, much money do you typically spend on coffee in a month?\"].mode()\n",
    "mode_total_money_month"
   ]
  },
  {
   "cell_type": "code",
   "execution_count": 69,
   "id": "0b21026f",
   "metadata": {},
   "outputs": [
    {
     "name": "stdout",
     "output_type": "stream",
     "text": [
      "<class 'pandas.core.series.Series'>\n",
      "RangeIndex: 4042 entries, 0 to 4041\n",
      "Series name: In total, much money do you typically spend on coffee in a month?\n",
      "Non-Null Count  Dtype \n",
      "--------------  ----- \n",
      "4042 non-null   object\n",
      "dtypes: object(1)\n",
      "memory usage: 31.7+ KB\n"
     ]
    }
   ],
   "source": [
    "df[\"In total, much money do you typically spend on coffee in a month?\"].replace(np.nan,mode_total_money_month[0], inplace=True)\n",
    "df[\"In total, much money do you typically spend on coffee in a month?\"].info()"
   ]
  },
  {
   "cell_type": "code",
   "execution_count": 70,
   "id": "c46d5b5d",
   "metadata": {},
   "outputs": [
    {
     "name": "stdout",
     "output_type": "stream",
     "text": [
      "<class 'pandas.core.series.Series'>\n",
      "RangeIndex: 4042 entries, 0 to 4041\n",
      "Series name: Approximately how much have you spent on coffee equipment in the past 5 years?\n",
      "Non-Null Count  Dtype \n",
      "--------------  ----- \n",
      "3506 non-null   object\n",
      "dtypes: object(1)\n",
      "memory usage: 31.7+ KB\n"
     ]
    }
   ],
   "source": [
    "df[\"Approximately how much have you spent on coffee equipment in the past 5 years?\"].info()"
   ]
  },
  {
   "cell_type": "code",
   "execution_count": 71,
   "id": "05f9bcff",
   "metadata": {},
   "outputs": [
    {
     "data": {
      "text/plain": [
       "0    More than $1,000\n",
       "Name: Approximately how much have you spent on coffee equipment in the past 5 years?, dtype: object"
      ]
     },
     "execution_count": 71,
     "metadata": {},
     "output_type": "execute_result"
    }
   ],
   "source": [
    "mode_money_equipment = df[\"Approximately how much have you spent on coffee equipment in the past 5 years?\"].mode()\n",
    "mode_money_equipment"
   ]
  },
  {
   "cell_type": "code",
   "execution_count": 72,
   "id": "8e734156",
   "metadata": {},
   "outputs": [
    {
     "name": "stdout",
     "output_type": "stream",
     "text": [
      "<class 'pandas.core.series.Series'>\n",
      "RangeIndex: 4042 entries, 0 to 4041\n",
      "Series name: Approximately how much have you spent on coffee equipment in the past 5 years?\n",
      "Non-Null Count  Dtype \n",
      "--------------  ----- \n",
      "4042 non-null   object\n",
      "dtypes: object(1)\n",
      "memory usage: 31.7+ KB\n"
     ]
    }
   ],
   "source": [
    "df[\"Approximately how much have you spent on coffee equipment in the past 5 years?\"].replace(np.nan,mode_money_equipment[0],inplace=True)\n",
    "df[\"Approximately how much have you spent on coffee equipment in the past 5 years?\"].info()"
   ]
  },
  {
   "cell_type": "code",
   "execution_count": 73,
   "id": "2b244487",
   "metadata": {},
   "outputs": [
    {
     "name": "stdout",
     "output_type": "stream",
     "text": [
      "<class 'pandas.core.series.Series'>\n",
      "RangeIndex: 4042 entries, 0 to 4041\n",
      "Series name: Do you feel like you’re getting good value for your money when you buy coffee at a cafe?\n",
      "Non-Null Count  Dtype \n",
      "--------------  ----- \n",
      "3500 non-null   object\n",
      "dtypes: object(1)\n",
      "memory usage: 31.7+ KB\n"
     ]
    }
   ],
   "source": [
    "df[\"Do you feel like you’re getting good value for your money when you buy coffee at a cafe?\"].info()"
   ]
  },
  {
   "cell_type": "code",
   "execution_count": 74,
   "id": "dc5d88a7",
   "metadata": {},
   "outputs": [
    {
     "data": {
      "text/plain": [
       "0    Yes\n",
       "Name: Do you feel like you’re getting good value for your money when you buy coffee at a cafe?, dtype: object"
      ]
     },
     "execution_count": 74,
     "metadata": {},
     "output_type": "execute_result"
    }
   ],
   "source": [
    "mode_value = df[\"Do you feel like you’re getting good value for your money when you buy coffee at a cafe?\"].mode()\n",
    "mode_value"
   ]
  },
  {
   "cell_type": "code",
   "execution_count": 75,
   "id": "ada5ace6",
   "metadata": {},
   "outputs": [
    {
     "name": "stdout",
     "output_type": "stream",
     "text": [
      "<class 'pandas.core.series.Series'>\n",
      "RangeIndex: 4042 entries, 0 to 4041\n",
      "Series name: Do you feel like you’re getting good value for your money when you buy coffee at a cafe?\n",
      "Non-Null Count  Dtype \n",
      "--------------  ----- \n",
      "4042 non-null   object\n",
      "dtypes: object(1)\n",
      "memory usage: 31.7+ KB\n"
     ]
    }
   ],
   "source": [
    "df[\"Do you feel like you’re getting good value for your money when you buy coffee at a cafe?\"].replace(np.nan,mode_value[0], inplace=True)\n",
    "df[\"Do you feel like you’re getting good value for your money when you buy coffee at a cafe?\"].info()"
   ]
  },
  {
   "cell_type": "code",
   "execution_count": 76,
   "id": "46ffd8e4",
   "metadata": {},
   "outputs": [
    {
     "name": "stdout",
     "output_type": "stream",
     "text": [
      "<class 'pandas.core.series.Series'>\n",
      "RangeIndex: 4042 entries, 0 to 4041\n",
      "Series name: Do you feel like you’re getting good value for your money with regards to your coffee equipment?\n",
      "Non-Null Count  Dtype \n",
      "--------------  ----- \n",
      "3494 non-null   object\n",
      "dtypes: object(1)\n",
      "memory usage: 31.7+ KB\n"
     ]
    }
   ],
   "source": [
    "df[\"Do you feel like you’re getting good value for your money with regards to your coffee equipment?\"].info()"
   ]
  },
  {
   "cell_type": "code",
   "execution_count": 77,
   "id": "244e481b",
   "metadata": {},
   "outputs": [
    {
     "data": {
      "text/plain": [
       "0    Yes\n",
       "Name: Do you feel like you’re getting good value for your money with regards to your coffee equipment?, dtype: object"
      ]
     },
     "execution_count": 77,
     "metadata": {},
     "output_type": "execute_result"
    }
   ],
   "source": [
    "mode_value_equip = df[\"Do you feel like you’re getting good value for your money with regards to your coffee equipment?\"].mode()\n",
    "mode_value_equip"
   ]
  },
  {
   "cell_type": "code",
   "execution_count": 78,
   "id": "ae2f0a7f",
   "metadata": {},
   "outputs": [
    {
     "name": "stdout",
     "output_type": "stream",
     "text": [
      "<class 'pandas.core.series.Series'>\n",
      "RangeIndex: 4042 entries, 0 to 4041\n",
      "Series name: Do you feel like you’re getting good value for your money with regards to your coffee equipment?\n",
      "Non-Null Count  Dtype \n",
      "--------------  ----- \n",
      "4042 non-null   object\n",
      "dtypes: object(1)\n",
      "memory usage: 31.7+ KB\n"
     ]
    }
   ],
   "source": [
    "df[\"Do you feel like you’re getting good value for your money with regards to your coffee equipment?\"].replace(np.nan,mode_value_equip[0], inplace=True)\n",
    "df[\"Do you feel like you’re getting good value for your money with regards to your coffee equipment?\"].info()"
   ]
  },
  {
   "cell_type": "code",
   "execution_count": 79,
   "id": "a4c53c78",
   "metadata": {},
   "outputs": [
    {
     "name": "stdout",
     "output_type": "stream",
     "text": [
      "['What is your favorite coffee drink?', 'Please specify what your favorite coffee drink is', 'What roast level of coffee do you prefer?', 'Between Coffee A, Coffee B, and Coffee C which did you prefer?', 'Between Coffee A and Coffee D, which did you prefer?', 'Lastly, what was your favorite overall coffee?']\n"
     ]
    }
   ],
   "source": [
    "matching_columns = [col for col in df.columns if \"favorite\" in col or \"between\" in col or \"prefer\" in col]\n",
    "\n",
    "print(matching_columns)"
   ]
  },
  {
   "cell_type": "code",
   "execution_count": 80,
   "id": "45c2dd31",
   "metadata": {},
   "outputs": [
    {
     "name": "stdout",
     "output_type": "stream",
     "text": [
      "<class 'pandas.core.series.Series'>\n",
      "RangeIndex: 4042 entries, 0 to 4041\n",
      "Series name: What is your favorite coffee drink?\n",
      "Non-Null Count  Dtype \n",
      "--------------  ----- \n",
      "4042 non-null   object\n",
      "dtypes: object(1)\n",
      "memory usage: 31.7+ KB\n"
     ]
    }
   ],
   "source": [
    "df[\"What is your favorite coffee drink?\"].info()"
   ]
  },
  {
   "cell_type": "code",
   "execution_count": 81,
   "id": "9e83b686",
   "metadata": {},
   "outputs": [
    {
     "name": "stdout",
     "output_type": "stream",
     "text": [
      "<class 'pandas.core.series.Series'>\n",
      "RangeIndex: 4042 entries, 0 to 4041\n",
      "Series name: Between Coffee A, Coffee B, and Coffee C which did you prefer?\n",
      "Non-Null Count  Dtype \n",
      "--------------  ----- \n",
      "3772 non-null   object\n",
      "dtypes: object(1)\n",
      "memory usage: 31.7+ KB\n"
     ]
    }
   ],
   "source": [
    "df[\"Between Coffee A, Coffee B, and Coffee C which did you prefer?\"].info()"
   ]
  },
  {
   "cell_type": "code",
   "execution_count": 82,
   "id": "82ea382f",
   "metadata": {},
   "outputs": [
    {
     "data": {
      "text/plain": [
       "0    Coffee A\n",
       "Name: Between Coffee A, Coffee B, and Coffee C which did you prefer?, dtype: object"
      ]
     },
     "execution_count": 82,
     "metadata": {},
     "output_type": "execute_result"
    }
   ],
   "source": [
    "mode_coffee_preference = df[\"Between Coffee A, Coffee B, and Coffee C which did you prefer?\"].mode()\n",
    "mode_coffee_preference"
   ]
  },
  {
   "cell_type": "code",
   "execution_count": 83,
   "id": "d4a6f452",
   "metadata": {},
   "outputs": [
    {
     "name": "stdout",
     "output_type": "stream",
     "text": [
      "<class 'pandas.core.series.Series'>\n",
      "RangeIndex: 4042 entries, 0 to 4041\n",
      "Series name: Between Coffee A, Coffee B, and Coffee C which did you prefer?\n",
      "Non-Null Count  Dtype \n",
      "--------------  ----- \n",
      "4042 non-null   object\n",
      "dtypes: object(1)\n",
      "memory usage: 31.7+ KB\n"
     ]
    }
   ],
   "source": [
    "df[\"Between Coffee A, Coffee B, and Coffee C which did you prefer?\"].replace(np.nan, mode_coffee_preference[0], inplace=True)\n",
    "df[\"Between Coffee A, Coffee B, and Coffee C which did you prefer?\"].info()"
   ]
  },
  {
   "cell_type": "code",
   "execution_count": 84,
   "id": "193379c8",
   "metadata": {},
   "outputs": [
    {
     "name": "stdout",
     "output_type": "stream",
     "text": [
      "<class 'pandas.core.series.Series'>\n",
      "RangeIndex: 4042 entries, 0 to 4041\n",
      "Series name: Lastly, what was your favorite overall coffee?\n",
      "Non-Null Count  Dtype \n",
      "--------------  ----- \n",
      "3770 non-null   object\n",
      "dtypes: object(1)\n",
      "memory usage: 31.7+ KB\n"
     ]
    }
   ],
   "source": [
    "df[\"Lastly, what was your favorite overall coffee?\"].info()"
   ]
  },
  {
   "cell_type": "code",
   "execution_count": 85,
   "id": "b4a7eead",
   "metadata": {},
   "outputs": [
    {
     "data": {
      "text/plain": [
       "0    Coffee D\n",
       "Name: Lastly, what was your favorite overall coffee?, dtype: object"
      ]
     },
     "execution_count": 85,
     "metadata": {},
     "output_type": "execute_result"
    }
   ],
   "source": [
    "mode_favorite_coffee = df[\"Lastly, what was your favorite overall coffee?\"].mode()\n",
    "mode_favorite_coffee"
   ]
  },
  {
   "cell_type": "code",
   "execution_count": 86,
   "id": "3957da7d",
   "metadata": {},
   "outputs": [
    {
     "name": "stdout",
     "output_type": "stream",
     "text": [
      "<class 'pandas.core.series.Series'>\n",
      "RangeIndex: 4042 entries, 0 to 4041\n",
      "Series name: Lastly, what was your favorite overall coffee?\n",
      "Non-Null Count  Dtype \n",
      "--------------  ----- \n",
      "4042 non-null   object\n",
      "dtypes: object(1)\n",
      "memory usage: 31.7+ KB\n"
     ]
    }
   ],
   "source": [
    "df[\"Lastly, what was your favorite overall coffee?\"].replace(np.nan, mode_favorite_coffee[0], inplace=True)\n",
    "df[\"Lastly, what was your favorite overall coffee?\"].info()"
   ]
  },
  {
   "cell_type": "code",
   "execution_count": 87,
   "id": "a484baad",
   "metadata": {},
   "outputs": [
    {
     "name": "stdout",
     "output_type": "stream",
     "text": [
      "<class 'pandas.core.series.Series'>\n",
      "RangeIndex: 4042 entries, 0 to 4041\n",
      "Series name: Between Coffee A and Coffee D, which did you prefer?\n",
      "Non-Null Count  Dtype \n",
      "--------------  ----- \n",
      "3761 non-null   object\n",
      "dtypes: object(1)\n",
      "memory usage: 31.7+ KB\n"
     ]
    }
   ],
   "source": [
    "df[\"Between Coffee A and Coffee D, which did you prefer?\"].info()"
   ]
  },
  {
   "cell_type": "code",
   "execution_count": 88,
   "id": "30b7dd0e",
   "metadata": {},
   "outputs": [
    {
     "data": {
      "text/plain": [
       "0    Coffee D\n",
       "Name: Between Coffee A and Coffee D, which did you prefer?, dtype: object"
      ]
     },
     "execution_count": 88,
     "metadata": {},
     "output_type": "execute_result"
    }
   ],
   "source": [
    "mode_AD = df[\"Between Coffee A and Coffee D, which did you prefer?\"].mode()\n",
    "mode_AD"
   ]
  },
  {
   "cell_type": "code",
   "execution_count": 89,
   "id": "7e766336",
   "metadata": {},
   "outputs": [
    {
     "name": "stdout",
     "output_type": "stream",
     "text": [
      "<class 'pandas.core.series.Series'>\n",
      "RangeIndex: 4042 entries, 0 to 4041\n",
      "Series name: Between Coffee A and Coffee D, which did you prefer?\n",
      "Non-Null Count  Dtype \n",
      "--------------  ----- \n",
      "4042 non-null   object\n",
      "dtypes: object(1)\n",
      "memory usage: 31.7+ KB\n"
     ]
    }
   ],
   "source": [
    "df[\"Between Coffee A and Coffee D, which did you prefer?\"].replace(np.nan, mode_AD[0], inplace=True)\n",
    "df[\"Between Coffee A and Coffee D, which did you prefer?\"].info()"
   ]
  },
  {
   "cell_type": "code",
   "execution_count": 90,
   "id": "497d1cf9",
   "metadata": {},
   "outputs": [
    {
     "name": "stdout",
     "output_type": "stream",
     "text": [
      "['How many cups of coffee do you typically drink per day?', 'Where do you typically drink coffee?', 'Where do you typically drink coffee? (At home)', 'Where do you typically drink coffee? (At the office)', 'Where do you typically drink coffee? (On the go)', 'Where do you typically drink coffee? (At a cafe)', 'Where do you typically drink coffee? (None of these)', 'How do you brew coffee at home?', 'How do you brew coffee at home? (Pour over)', 'How do you brew coffee at home? (French press)', 'How do you brew coffee at home? (Espresso)', 'How do you brew coffee at home? (Coffee brewing machine (e.g. Mr. Coffee))', 'How do you brew coffee at home? (Pod/capsule machine (e.g. Keurig/Nespresso))', 'How do you brew coffee at home? (Instant coffee)', 'How do you brew coffee at home? (Bean-to-cup machine)', 'How do you brew coffee at home? (Cold brew)', 'How do you brew coffee at home? (Coffee extract (e.g. Cometeer))', 'How do you brew coffee at home? (Other)', 'How else do you brew coffee at home?', 'On the go, where do you typically purchase coffee?', 'On the go, where do you typically purchase coffee? (National chain (e.g. Starbucks, Dunkin))', 'On the go, where do you typically purchase coffee? (Local cafe)', 'On the go, where do you typically purchase coffee? (Drive-thru)', 'On the go, where do you typically purchase coffee? (Specialty coffee shop)', 'On the go, where do you typically purchase coffee? (Deli or supermarket)', 'On the go, where do you typically purchase coffee? (Other)', 'Where else do you purchase coffee?', 'What is your favorite coffee drink?', 'Please specify what your favorite coffee drink is', 'Do you usually add anything to your coffee?', 'Do you usually add anything to your coffee? (No - just black)', 'Do you usually add anything to your coffee? (Milk, dairy alternative, or coffee creamer)', 'Do you usually add anything to your coffee? (Sugar or sweetener)', 'Do you usually add anything to your coffee? (Flavor syrup)', 'Do you usually add anything to your coffee? (Other)', 'What else do you add to your coffee?', 'What kind of dairy do you add? (Flavored coffee creamer)', \"Before today's tasting, which of the following best described what kind of coffee you like?\", 'How strong do you like your coffee?', 'What roast level of coffee do you prefer?', 'How much caffeine do you like in your coffee?', 'Lastly, how would you rate your own coffee expertise?', 'Lastly, what was your favorite overall coffee?', 'In total, much money do you typically spend on coffee in a month?', 'Why do you drink coffee?', 'Why do you drink coffee? (It tastes good)', 'Why do you drink coffee? (I need the caffeine)', 'Why do you drink coffee? (I need the ritual)', 'Why do you drink coffee? (It makes me go to the bathroom)', 'Why do you drink coffee? (Other)', 'Other reason for drinking coffee', 'Do you like the taste of coffee?', 'Do you know where your coffee comes from?', \"What is the most you've ever paid for a cup of coffee?\", \"What is the most you'd ever be willing to pay for a cup of coffee?\", 'Do you feel like you’re getting good value for your money when you buy coffee at a cafe?', 'Approximately how much have you spent on coffee equipment in the past 5 years?', 'Do you feel like you’re getting good value for your money with regards to your coffee equipment?']\n"
     ]
    }
   ],
   "source": [
    "matching_columns = [col for col in df.columns if \"coffee\" in col]\n",
    "print(matching_columns)"
   ]
  },
  {
   "cell_type": "code",
   "execution_count": 91,
   "id": "5df1c5c5",
   "metadata": {},
   "outputs": [
    {
     "name": "stdout",
     "output_type": "stream",
     "text": [
      "<class 'pandas.core.series.Series'>\n",
      "RangeIndex: 4042 entries, 0 to 4041\n",
      "Series name: On the go, where do you typically purchase coffee?\n",
      "Non-Null Count  Dtype \n",
      "--------------  ----- \n",
      "710 non-null    object\n",
      "dtypes: object(1)\n",
      "memory usage: 31.7+ KB\n"
     ]
    }
   ],
   "source": [
    "df[\"On the go, where do you typically purchase coffee?\"].info()"
   ]
  },
  {
   "cell_type": "code",
   "execution_count": 92,
   "id": "7013e11e",
   "metadata": {},
   "outputs": [
    {
     "data": {
      "text/plain": [
       "0    Specialty coffee shop\n",
       "Name: On the go, where do you typically purchase coffee?, dtype: object"
      ]
     },
     "execution_count": 92,
     "metadata": {},
     "output_type": "execute_result"
    }
   ],
   "source": [
    "mode_purchase = df[\"On the go, where do you typically purchase coffee?\"].mode()\n",
    "mode_purchase"
   ]
  },
  {
   "cell_type": "code",
   "execution_count": 93,
   "id": "e5c2f1b8",
   "metadata": {},
   "outputs": [
    {
     "name": "stdout",
     "output_type": "stream",
     "text": [
      "<class 'pandas.core.series.Series'>\n",
      "RangeIndex: 4042 entries, 0 to 4041\n",
      "Series name: Before today's tasting, which of the following best described what kind of coffee you like?\n",
      "Non-Null Count  Dtype \n",
      "--------------  ----- \n",
      "3958 non-null   object\n",
      "dtypes: object(1)\n",
      "memory usage: 31.7+ KB\n"
     ]
    }
   ],
   "source": [
    "df[\"Before today's tasting, which of the following best described what kind of coffee you like?\"].info()"
   ]
  },
  {
   "cell_type": "code",
   "execution_count": 94,
   "id": "e98f55c3",
   "metadata": {},
   "outputs": [
    {
     "data": {
      "text/plain": [
       "0    Fruity\n",
       "Name: Before today's tasting, which of the following best described what kind of coffee you like?, dtype: object"
      ]
     },
     "execution_count": 94,
     "metadata": {},
     "output_type": "execute_result"
    }
   ],
   "source": [
    "mode_coffee_like = df[\"Before today's tasting, which of the following best described what kind of coffee you like?\"].mode()\n",
    "mode_coffee_like"
   ]
  },
  {
   "cell_type": "code",
   "execution_count": 95,
   "id": "39f395fa",
   "metadata": {},
   "outputs": [
    {
     "name": "stdout",
     "output_type": "stream",
     "text": [
      "<class 'pandas.core.series.Series'>\n",
      "RangeIndex: 4042 entries, 0 to 4041\n",
      "Series name: Before today's tasting, which of the following best described what kind of coffee you like?\n",
      "Non-Null Count  Dtype \n",
      "--------------  ----- \n",
      "4042 non-null   object\n",
      "dtypes: object(1)\n",
      "memory usage: 31.7+ KB\n"
     ]
    }
   ],
   "source": [
    "df[\"Before today's tasting, which of the following best described what kind of coffee you like?\"].replace(np.nan, mode_coffee_like[0], inplace=True)\n",
    "df[\"Before today's tasting, which of the following best described what kind of coffee you like?\"].info()"
   ]
  },
  {
   "cell_type": "code",
   "execution_count": 96,
   "id": "74923fb7",
   "metadata": {},
   "outputs": [
    {
     "name": "stdout",
     "output_type": "stream",
     "text": [
      "<class 'pandas.core.series.Series'>\n",
      "RangeIndex: 4042 entries, 0 to 4041\n",
      "Series name: How strong do you like your coffee?\n",
      "Non-Null Count  Dtype \n",
      "--------------  ----- \n",
      "3916 non-null   object\n",
      "dtypes: object(1)\n",
      "memory usage: 31.7+ KB\n"
     ]
    }
   ],
   "source": [
    "df[\"How strong do you like your coffee?\"].info()"
   ]
  },
  {
   "cell_type": "code",
   "execution_count": 97,
   "id": "c8325c87",
   "metadata": {},
   "outputs": [
    {
     "data": {
      "text/plain": [
       "0    Somewhat strong\n",
       "Name: How strong do you like your coffee?, dtype: object"
      ]
     },
     "execution_count": 97,
     "metadata": {},
     "output_type": "execute_result"
    }
   ],
   "source": [
    "mode_coffee_strong = df[\"How strong do you like your coffee?\"].mode()\n",
    "mode_coffee_strong"
   ]
  },
  {
   "cell_type": "code",
   "execution_count": 98,
   "id": "558ed356",
   "metadata": {},
   "outputs": [
    {
     "name": "stdout",
     "output_type": "stream",
     "text": [
      "<class 'pandas.core.series.Series'>\n",
      "RangeIndex: 4042 entries, 0 to 4041\n",
      "Series name: How strong do you like your coffee?\n",
      "Non-Null Count  Dtype \n",
      "--------------  ----- \n",
      "4042 non-null   object\n",
      "dtypes: object(1)\n",
      "memory usage: 31.7+ KB\n"
     ]
    }
   ],
   "source": [
    "df[\"How strong do you like your coffee?\"].replace(np.nan,mode_coffee_strong[0], inplace=True)\n",
    "df[\"How strong do you like your coffee?\"].info()"
   ]
  },
  {
   "cell_type": "code",
   "execution_count": 99,
   "id": "0af1f4af",
   "metadata": {},
   "outputs": [
    {
     "name": "stdout",
     "output_type": "stream",
     "text": [
      "<class 'pandas.core.series.Series'>\n",
      "RangeIndex: 4042 entries, 0 to 4041\n",
      "Series name: Lastly, how would you rate your own coffee expertise?\n",
      "Non-Null Count  Dtype  \n",
      "--------------  -----  \n",
      "3938 non-null   float64\n",
      "dtypes: float64(1)\n",
      "memory usage: 31.7 KB\n"
     ]
    }
   ],
   "source": [
    "df[\"Lastly, how would you rate your own coffee expertise?\"].info()"
   ]
  },
  {
   "cell_type": "code",
   "execution_count": 100,
   "id": "675417c7",
   "metadata": {},
   "outputs": [
    {
     "data": {
      "text/plain": [
       "0       NaN\n",
       "1       NaN\n",
       "2       NaN\n",
       "3       NaN\n",
       "4       NaN\n",
       "       ... \n",
       "4037    2.0\n",
       "4038    2.0\n",
       "4039    5.0\n",
       "4040    6.0\n",
       "4041    6.0\n",
       "Name: Lastly, how would you rate your own coffee expertise?, Length: 4042, dtype: float64"
      ]
     },
     "execution_count": 100,
     "metadata": {},
     "output_type": "execute_result"
    }
   ],
   "source": [
    "df[\"Lastly, how would you rate your own coffee expertise?\"]"
   ]
  },
  {
   "cell_type": "code",
   "execution_count": 101,
   "id": "5986f586",
   "metadata": {},
   "outputs": [
    {
     "data": {
      "text/plain": [
       "Lastly, how would you rate your own coffee expertise?\n",
       "7.0     939\n",
       "6.0     851\n",
       "5.0     580\n",
       "8.0     490\n",
       "4.0     356\n",
       "3.0     273\n",
       "2.0     166\n",
       "1.0     155\n",
       "9.0      88\n",
       "10.0     40\n",
       "Name: count, dtype: int64"
      ]
     },
     "execution_count": 101,
     "metadata": {},
     "output_type": "execute_result"
    }
   ],
   "source": [
    "df[\"Lastly, how would you rate your own coffee expertise?\"].value_counts()"
   ]
  },
  {
   "cell_type": "code",
   "execution_count": 102,
   "id": "6564f046",
   "metadata": {},
   "outputs": [
    {
     "data": {
      "text/plain": [
       "0    7.0\n",
       "Name: Lastly, how would you rate your own coffee expertise?, dtype: float64"
      ]
     },
     "execution_count": 102,
     "metadata": {},
     "output_type": "execute_result"
    }
   ],
   "source": [
    "mode_coffee_expertise = df[\"Lastly, how would you rate your own coffee expertise?\"].mode()\n",
    "mode_coffee_expertise"
   ]
  },
  {
   "cell_type": "code",
   "execution_count": 103,
   "id": "2338ac08",
   "metadata": {},
   "outputs": [
    {
     "name": "stdout",
     "output_type": "stream",
     "text": [
      "<class 'pandas.core.series.Series'>\n",
      "RangeIndex: 4042 entries, 0 to 4041\n",
      "Series name: Lastly, how would you rate your own coffee expertise?\n",
      "Non-Null Count  Dtype  \n",
      "--------------  -----  \n",
      "4042 non-null   float64\n",
      "dtypes: float64(1)\n",
      "memory usage: 31.7 KB\n"
     ]
    }
   ],
   "source": [
    "df[\"Lastly, how would you rate your own coffee expertise?\"].replace(np.nan ,mode_coffee_expertise[0] , inplace=True)\n",
    "df[\"Lastly, how would you rate your own coffee expertise?\"].info()"
   ]
  },
  {
   "cell_type": "code",
   "execution_count": 104,
   "id": "d81ff420",
   "metadata": {},
   "outputs": [
    {
     "name": "stdout",
     "output_type": "stream",
     "text": [
      "<class 'pandas.core.series.Series'>\n",
      "RangeIndex: 4042 entries, 0 to 4041\n",
      "Series name: Why do you drink coffee?\n",
      "Non-Null Count  Dtype \n",
      "--------------  ----- \n",
      "3568 non-null   object\n",
      "dtypes: object(1)\n",
      "memory usage: 31.7+ KB\n"
     ]
    }
   ],
   "source": [
    "df[\"Why do you drink coffee?\"].info()"
   ]
  },
  {
   "cell_type": "code",
   "execution_count": 105,
   "id": "6222cab7",
   "metadata": {},
   "outputs": [
    {
     "data": {
      "text/plain": [
       "0    It tastes good\n",
       "Name: Why do you drink coffee?, dtype: object"
      ]
     },
     "execution_count": 105,
     "metadata": {},
     "output_type": "execute_result"
    }
   ],
   "source": [
    "mode_reason_to_drink_coffee = df[\"Why do you drink coffee?\"].mode()\n",
    "mode_reason_to_drink_coffee"
   ]
  },
  {
   "cell_type": "code",
   "execution_count": 106,
   "id": "3c9a2def",
   "metadata": {},
   "outputs": [
    {
     "name": "stdout",
     "output_type": "stream",
     "text": [
      "<class 'pandas.core.series.Series'>\n",
      "RangeIndex: 4042 entries, 0 to 4041\n",
      "Series name: Why do you drink coffee?\n",
      "Non-Null Count  Dtype \n",
      "--------------  ----- \n",
      "4042 non-null   object\n",
      "dtypes: object(1)\n",
      "memory usage: 31.7+ KB\n"
     ]
    }
   ],
   "source": [
    "df[\"Why do you drink coffee?\"].replace(np.nan,mode_reason_to_drink_coffee[0],inplace=True)\n",
    "df[\"Why do you drink coffee?\"].info()"
   ]
  },
  {
   "cell_type": "code",
   "execution_count": 107,
   "id": "07ac78d0",
   "metadata": {},
   "outputs": [
    {
     "name": "stdout",
     "output_type": "stream",
     "text": [
      "<class 'pandas.core.series.Series'>\n",
      "RangeIndex: 4042 entries, 0 to 4041\n",
      "Series name: Where do you typically drink coffee? (At home)\n",
      "Non-Null Count  Dtype \n",
      "--------------  ----- \n",
      "3975 non-null   object\n",
      "dtypes: object(1)\n",
      "memory usage: 31.7+ KB\n"
     ]
    }
   ],
   "source": [
    "df[\"Where do you typically drink coffee? (At home)\"].info()"
   ]
  },
  {
   "cell_type": "code",
   "execution_count": 108,
   "id": "02176a20",
   "metadata": {},
   "outputs": [
    {
     "data": {
      "text/plain": [
       "67"
      ]
     },
     "execution_count": 108,
     "metadata": {},
     "output_type": "execute_result"
    }
   ],
   "source": [
    "df[\"Where do you typically drink coffee? (At home)\"].isnull().sum()"
   ]
  },
  {
   "cell_type": "code",
   "execution_count": 109,
   "id": "31ce86bb",
   "metadata": {},
   "outputs": [
    {
     "name": "stdout",
     "output_type": "stream",
     "text": [
      "<class 'pandas.core.series.Series'>\n",
      "RangeIndex: 4042 entries, 0 to 4041\n",
      "Series name: How do you brew coffee at home? (Pour over)\n",
      "Non-Null Count  Dtype \n",
      "--------------  ----- \n",
      "3661 non-null   object\n",
      "dtypes: object(1)\n",
      "memory usage: 31.7+ KB\n"
     ]
    }
   ],
   "source": [
    "df[\"How do you brew coffee at home? (Pour over)\"].info()"
   ]
  },
  {
   "cell_type": "code",
   "execution_count": 110,
   "id": "d876e44f",
   "metadata": {},
   "outputs": [
    {
     "data": {
      "text/plain": [
       "381"
      ]
     },
     "execution_count": 110,
     "metadata": {},
     "output_type": "execute_result"
    }
   ],
   "source": [
    "df[\"How do you brew coffee at home? (Pour over)\"].isnull().sum()"
   ]
  },
  {
   "cell_type": "code",
   "execution_count": 111,
   "id": "db8a768c",
   "metadata": {},
   "outputs": [
    {
     "name": "stdout",
     "output_type": "stream",
     "text": [
      "<class 'pandas.core.series.Series'>\n",
      "RangeIndex: 4042 entries, 0 to 4041\n",
      "Series name: Do you usually add anything to your coffee? (No - just black)\n",
      "Non-Null Count  Dtype \n",
      "--------------  ----- \n",
      "3960 non-null   object\n",
      "dtypes: object(1)\n",
      "memory usage: 31.7+ KB\n"
     ]
    }
   ],
   "source": [
    "df[\"Do you usually add anything to your coffee? (No - just black)\"].info()"
   ]
  },
  {
   "cell_type": "code",
   "execution_count": 112,
   "id": "8af399ad",
   "metadata": {},
   "outputs": [
    {
     "data": {
      "text/plain": [
       "82"
      ]
     },
     "execution_count": 112,
     "metadata": {},
     "output_type": "execute_result"
    }
   ],
   "source": [
    "df[\"Do you usually add anything to your coffee? (No - just black)\"].isnull().sum()"
   ]
  },
  {
   "cell_type": "code",
   "execution_count": 113,
   "id": "3127c71f",
   "metadata": {},
   "outputs": [
    {
     "name": "stdout",
     "output_type": "stream",
     "text": [
      "<class 'pandas.core.series.Series'>\n",
      "RangeIndex: 4042 entries, 0 to 4041\n",
      "Series name: Where do you typically drink coffee?\n",
      "Non-Null Count  Dtype \n",
      "--------------  ----- \n",
      "3972 non-null   object\n",
      "dtypes: object(1)\n",
      "memory usage: 31.7+ KB\n"
     ]
    }
   ],
   "source": [
    "df[\"Where do you typically drink coffee?\"].info()"
   ]
  },
  {
   "cell_type": "code",
   "execution_count": 114,
   "id": "d46d66ae",
   "metadata": {},
   "outputs": [
    {
     "data": {
      "text/plain": [
       "0    At home\n",
       "Name: Where do you typically drink coffee?, dtype: object"
      ]
     },
     "execution_count": 114,
     "metadata": {},
     "output_type": "execute_result"
    }
   ],
   "source": [
    "mode_coffee_place = df[\"Where do you typically drink coffee?\"].mode()\n",
    "mode_coffee_place"
   ]
  },
  {
   "cell_type": "code",
   "execution_count": 115,
   "id": "9995aefc",
   "metadata": {},
   "outputs": [
    {
     "name": "stdout",
     "output_type": "stream",
     "text": [
      "<class 'pandas.core.series.Series'>\n",
      "RangeIndex: 4042 entries, 0 to 4041\n",
      "Series name: Where do you typically drink coffee?\n",
      "Non-Null Count  Dtype \n",
      "--------------  ----- \n",
      "4042 non-null   object\n",
      "dtypes: object(1)\n",
      "memory usage: 31.7+ KB\n"
     ]
    }
   ],
   "source": [
    "df[\"Where do you typically drink coffee?\"].replace(np.nan, mode_coffee_place[0], inplace=True)\n",
    "df[\"Where do you typically drink coffee?\"].info()"
   ]
  },
  {
   "cell_type": "code",
   "execution_count": 116,
   "id": "8c645e90",
   "metadata": {},
   "outputs": [
    {
     "data": {
      "text/plain": [
       "3332"
      ]
     },
     "execution_count": 116,
     "metadata": {},
     "output_type": "execute_result"
    }
   ],
   "source": [
    "df[\"On the go, where do you typically purchase coffee?\"].isnull().sum()"
   ]
  },
  {
   "cell_type": "code",
   "execution_count": 117,
   "id": "d57fc687",
   "metadata": {},
   "outputs": [
    {
     "data": {
      "text/plain": [
       "On the go, where do you typically purchase coffee?\n",
       "Specialty coffee shop                                                                     116\n",
       "National chain (e.g. Starbucks, Dunkin)                                                    70\n",
       "Local cafe                                                                                 65\n",
       "Local cafe, Specialty coffee shop                                                          58\n",
       "Specialty coffee shop, Local cafe                                                          58\n",
       "                                                                                         ... \n",
       "National chain (e.g. Starbucks, Dunkin), Local cafe, Specialty coffee shop, Drive-thru      1\n",
       "Specialty coffee shop, Drive-thru, Deli or supermarket                                      1\n",
       "Local cafe, Specialty coffee shop, Deli or supermarket                                      1\n",
       "National chain (e.g. Starbucks, Dunkin), Deli or supermarket                                1\n",
       "Drive-thru, National chain (e.g. Starbucks, Dunkin), Specialty coffee shop, Local cafe      1\n",
       "Name: count, Length: 89, dtype: int64"
      ]
     },
     "execution_count": 117,
     "metadata": {},
     "output_type": "execute_result"
    }
   ],
   "source": [
    "df[\"On the go, where do you typically purchase coffee?\"].value_counts()"
   ]
  },
  {
   "cell_type": "code",
   "execution_count": 118,
   "id": "4e004e8b",
   "metadata": {},
   "outputs": [
    {
     "name": "stdout",
     "output_type": "stream",
     "text": [
      "<class 'pandas.core.series.Series'>\n",
      "RangeIndex: 4042 entries, 0 to 4041\n",
      "Series name: On the go, where do you typically purchase coffee?\n",
      "Non-Null Count  Dtype \n",
      "--------------  ----- \n",
      "710 non-null    object\n",
      "dtypes: object(1)\n",
      "memory usage: 31.7+ KB\n"
     ]
    }
   ],
   "source": [
    "df[\"On the go, where do you typically purchase coffee?\"].info()"
   ]
  },
  {
   "cell_type": "code",
   "execution_count": 119,
   "id": "9596959f",
   "metadata": {},
   "outputs": [
    {
     "name": "stdout",
     "output_type": "stream",
     "text": [
      "1170\n"
     ]
    }
   ],
   "source": [
    "cafe_counts = df[df['Where do you typically drink coffee?'].str.contains('Cafe', case=False)].shape[0]\n",
    "print(cafe_counts)"
   ]
  },
  {
   "cell_type": "code",
   "execution_count": 120,
   "id": "992afa9d",
   "metadata": {},
   "outputs": [
    {
     "name": "stdout",
     "output_type": "stream",
     "text": [
      "['What kind of sugar or sweetener do you add?', 'What kind of sugar or sweetener do you add? (Granulated Sugar)', 'What kind of sugar or sweetener do you add? (Artificial Sweeteners (e.g., Splenda))', 'What kind of sugar or sweetener do you add? (Honey)', 'What kind of sugar or sweetener do you add? (Maple Syrup)', 'What kind of sugar or sweetener do you add? (Stevia)', 'What kind of sugar or sweetener do you add? (Agave Nectar)', 'What kind of sugar or sweetener do you add? (Brown Sugar)', 'What kind of sugar or sweetener do you add? (Raw Sugar (Turbinado))']\n"
     ]
    }
   ],
   "source": [
    "matching_columns = [col for col in df.columns if \"sugar\" in col]\n",
    "print(matching_columns)"
   ]
  },
  {
   "cell_type": "code",
   "execution_count": 121,
   "id": "821166c9",
   "metadata": {},
   "outputs": [
    {
     "name": "stdout",
     "output_type": "stream",
     "text": [
      "<class 'pandas.core.series.Series'>\n",
      "RangeIndex: 4042 entries, 0 to 4041\n",
      "Series name: What kind of sugar or sweetener do you add?\n",
      "Non-Null Count  Dtype \n",
      "--------------  ----- \n",
      "512 non-null    object\n",
      "dtypes: object(1)\n",
      "memory usage: 31.7+ KB\n"
     ]
    }
   ],
   "source": [
    "df['What kind of sugar or sweetener do you add?'].info()"
   ]
  },
  {
   "cell_type": "code",
   "execution_count": 122,
   "id": "1b751375",
   "metadata": {},
   "outputs": [
    {
     "data": {
      "text/plain": [
       "count                  512\n",
       "unique                  82\n",
       "top       Granulated Sugar\n",
       "freq                   179\n",
       "Name: What kind of sugar or sweetener do you add?, dtype: object"
      ]
     },
     "execution_count": 122,
     "metadata": {},
     "output_type": "execute_result"
    }
   ],
   "source": [
    "df['What kind of sugar or sweetener do you add?'].describe()"
   ]
  },
  {
   "cell_type": "code",
   "execution_count": 123,
   "id": "360d3aa0",
   "metadata": {},
   "outputs": [
    {
     "data": {
      "text/plain": [
       "0    Granulated Sugar\n",
       "Name: What kind of sugar or sweetener do you add?, dtype: object"
      ]
     },
     "execution_count": 123,
     "metadata": {},
     "output_type": "execute_result"
    }
   ],
   "source": [
    "df['What kind of sugar or sweetener do you add?'].mode()"
   ]
  },
  {
   "cell_type": "code",
   "execution_count": 124,
   "id": "a49365ec",
   "metadata": {},
   "outputs": [
    {
     "name": "stdout",
     "output_type": "stream",
     "text": [
      "['What kind of dairy do you add?', 'What kind of dairy do you add? (Whole milk)', 'What kind of dairy do you add? (Skim milk)', 'What kind of dairy do you add? (Half and half)', 'What kind of dairy do you add? (Coffee creamer)', 'What kind of dairy do you add? (Flavored coffee creamer)', 'What kind of dairy do you add? (Oat milk)', 'What kind of dairy do you add? (Almond milk)', 'What kind of dairy do you add? (Soy milk)', 'What kind of dairy do you add? (Other)', 'What kind of sugar or sweetener do you add?', 'What kind of sugar or sweetener do you add? (Granulated Sugar)', 'What kind of sugar or sweetener do you add? (Artificial Sweeteners (e.g., Splenda))', 'What kind of sugar or sweetener do you add? (Honey)', 'What kind of sugar or sweetener do you add? (Maple Syrup)', 'What kind of sugar or sweetener do you add? (Stevia)', 'What kind of sugar or sweetener do you add? (Agave Nectar)', 'What kind of sugar or sweetener do you add? (Brown Sugar)', 'What kind of sugar or sweetener do you add? (Raw Sugar (Turbinado))', 'What kind of flavorings do you add?', 'What kind of flavorings do you add? (Vanilla Syrup)', 'What kind of flavorings do you add? (Caramel Syrup)', 'What kind of flavorings do you add? (Hazelnut Syrup)', 'What kind of flavorings do you add? (Cinnamon (Ground or Stick))', 'What kind of flavorings do you add? (Peppermint Syrup)', 'What kind of flavorings do you add? (Other)', \"Before today's tasting, which of the following best described what kind of coffee you like?\"]\n"
     ]
    }
   ],
   "source": [
    "matching_columns = [col for col in df.columns if \"kind\" in col]\n",
    "print(matching_columns)"
   ]
  },
  {
   "cell_type": "code",
   "execution_count": 125,
   "id": "8a915b8b",
   "metadata": {},
   "outputs": [
    {
     "data": {
      "text/plain": [
       "0    Whole milk\n",
       "Name: What kind of dairy do you add?, dtype: object"
      ]
     },
     "execution_count": 125,
     "metadata": {},
     "output_type": "execute_result"
    }
   ],
   "source": [
    "df['What kind of dairy do you add?'].mode()"
   ]
  },
  {
   "cell_type": "code",
   "execution_count": 126,
   "id": "68addd7a",
   "metadata": {},
   "outputs": [
    {
     "data": {
      "text/plain": [
       "Series([], Name: What kind of flavorings do you add?, dtype: float64)"
      ]
     },
     "execution_count": 126,
     "metadata": {},
     "output_type": "execute_result"
    }
   ],
   "source": [
    "df['What kind of flavorings do you add?'].mode()"
   ]
  },
  {
   "cell_type": "code",
   "execution_count": 127,
   "id": "d886c21d",
   "metadata": {},
   "outputs": [
    {
     "data": {
      "text/plain": [
       "Series([], Name: count, dtype: int64)"
      ]
     },
     "execution_count": 127,
     "metadata": {},
     "output_type": "execute_result"
    }
   ],
   "source": [
    "df['What kind of flavorings do you add?'].value_counts()"
   ]
  },
  {
   "cell_type": "code",
   "execution_count": 128,
   "id": "0c3b9fda",
   "metadata": {},
   "outputs": [
    {
     "name": "stdout",
     "output_type": "stream",
     "text": [
      "['What kind of flavorings do you add?', 'What kind of flavorings do you add? (Vanilla Syrup)', 'What kind of flavorings do you add? (Caramel Syrup)', 'What kind of flavorings do you add? (Hazelnut Syrup)', 'What kind of flavorings do you add? (Cinnamon (Ground or Stick))', 'What kind of flavorings do you add? (Peppermint Syrup)', 'What kind of flavorings do you add? (Other)', 'What other flavoring do you use?']\n"
     ]
    }
   ],
   "source": [
    "matching_columns = [col for col in df.columns if \"flavor\" in col]\n",
    "print(matching_columns)"
   ]
  },
  {
   "cell_type": "code",
   "execution_count": 129,
   "id": "a268d4d0",
   "metadata": {},
   "outputs": [
    {
     "name": "stdout",
     "output_type": "stream",
     "text": [
      "['Where do you typically drink coffee? (On the go)', 'On the go, where do you typically purchase coffee?', 'On the go, where do you typically purchase coffee? (National chain (e.g. Starbucks, Dunkin))', 'On the go, where do you typically purchase coffee? (Local cafe)', 'On the go, where do you typically purchase coffee? (Drive-thru)', 'On the go, where do you typically purchase coffee? (Specialty coffee shop)', 'On the go, where do you typically purchase coffee? (Deli or supermarket)', 'On the go, where do you typically purchase coffee? (Other)']\n"
     ]
    }
   ],
   "source": [
    "matching_columns = [col for col in df.columns if \"On\" in col and \"go\" in col]\n",
    "print(matching_columns)"
   ]
  },
  {
   "cell_type": "code",
   "execution_count": 130,
   "id": "507a1af6",
   "metadata": {},
   "outputs": [
    {
     "data": {
      "text/plain": [
       "On the go, where do you typically purchase coffee?\n",
       "Specialty coffee shop                                                                     116\n",
       "National chain (e.g. Starbucks, Dunkin)                                                    70\n",
       "Local cafe                                                                                 65\n",
       "Local cafe, Specialty coffee shop                                                          58\n",
       "Specialty coffee shop, Local cafe                                                          58\n",
       "                                                                                         ... \n",
       "National chain (e.g. Starbucks, Dunkin), Local cafe, Specialty coffee shop, Drive-thru      1\n",
       "Specialty coffee shop, Drive-thru, Deli or supermarket                                      1\n",
       "Local cafe, Specialty coffee shop, Deli or supermarket                                      1\n",
       "National chain (e.g. Starbucks, Dunkin), Deli or supermarket                                1\n",
       "Drive-thru, National chain (e.g. Starbucks, Dunkin), Specialty coffee shop, Local cafe      1\n",
       "Name: count, Length: 89, dtype: int64"
      ]
     },
     "execution_count": 130,
     "metadata": {},
     "output_type": "execute_result"
    }
   ],
   "source": [
    "df['On the go, where do you typically purchase coffee?'].value_counts()"
   ]
  },
  {
   "cell_type": "code",
   "execution_count": 131,
   "id": "d47c2083",
   "metadata": {},
   "outputs": [
    {
     "name": "stdout",
     "output_type": "stream",
     "text": [
      "['How do you brew coffee at home? (Coffee brewing machine (e.g. Mr. Coffee))', 'How do you brew coffee at home? (Coffee extract (e.g. Cometeer))', 'What kind of dairy do you add? (Coffee creamer)', 'Coffee A - Bitterness', 'Coffee A - Acidity', 'Coffee A - Personal Preference', 'Coffee A - Notes', 'Coffee B - Bitterness', 'Coffee B - Acidity', 'Coffee B - Personal Preference', 'Coffee B - Notes', 'Coffee C - Bitterness', 'Coffee C - Acidity', 'Coffee C - Personal Preference', 'Coffee C - Notes', 'Coffee D - Bitterness', 'Coffee D - Acidity', 'Coffee D - Personal Preference', 'Coffee D - Notes', 'Between Coffee A, Coffee B, and Coffee C which did you prefer?', 'Between Coffee A and Coffee D, which did you prefer?']\n"
     ]
    }
   ],
   "source": [
    "matching_columns = [col for col in df.columns if \"Coffee\" in col]\n",
    "print(matching_columns)"
   ]
  },
  {
   "cell_type": "code",
   "execution_count": 132,
   "id": "9368b310",
   "metadata": {},
   "outputs": [
    {
     "data": {
      "text/plain": [
       "Series([], Name: count, dtype: int64)"
      ]
     },
     "execution_count": 132,
     "metadata": {},
     "output_type": "execute_result"
    }
   ],
   "source": [
    "df['What other flavoring do you use?'].value_counts()"
   ]
  },
  {
   "cell_type": "code",
   "execution_count": 133,
   "id": "6754211c",
   "metadata": {},
   "outputs": [],
   "source": [
    "df.to_csv('C:\\\\Users\\\\USER\\\\OneDrive\\\\Documents\\\\PACIFIQUE NTETA\\\\Data Analytics Projects\\\\Maven\\\\cleaned_file.csv', index=False)"
   ]
  },
  {
   "cell_type": "code",
   "execution_count": null,
   "id": "5bb5ab36",
   "metadata": {},
   "outputs": [],
   "source": []
  }
 ],
 "metadata": {
  "kernelspec": {
   "display_name": "Python 3 (ipykernel)",
   "language": "python",
   "name": "python3"
  },
  "language_info": {
   "codemirror_mode": {
    "name": "ipython",
    "version": 3
   },
   "file_extension": ".py",
   "mimetype": "text/x-python",
   "name": "python",
   "nbconvert_exporter": "python",
   "pygments_lexer": "ipython3",
   "version": "3.11.5"
  }
 },
 "nbformat": 4,
 "nbformat_minor": 5
}
